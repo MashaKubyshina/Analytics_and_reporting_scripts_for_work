{
  "nbformat": 4,
  "nbformat_minor": 0,
  "metadata": {
    "colab": {
      "name": "Metrics_WI_Vaccine_Initiative.ipynb",
      "provenance": [],
      "authorship_tag": "ABX9TyOunXqKDj6jLzfAWXkSZJHR",
      "include_colab_link": true
    },
    "kernelspec": {
      "name": "python3",
      "display_name": "Python 3"
    },
    "language_info": {
      "name": "python"
    }
  },
  "cells": [
    {
      "cell_type": "markdown",
      "metadata": {
        "id": "view-in-github",
        "colab_type": "text"
      },
      "source": [
        "<a href=\"https://colab.research.google.com/github/MashaKubyshina/solving_work_data_analytics_problems/blob/main/Metrics_WI_Vaccine_Initiative.ipynb\" target=\"_parent\"><img src=\"https://colab.research.google.com/assets/colab-badge.svg\" alt=\"Open In Colab\"/></a>"
      ]
    },
    {
      "cell_type": "markdown",
      "metadata": {
        "id": "UZdBQLtQKs-s"
      },
      "source": [
        "### **Quick GoToVacc data from FB ads**\n",
        "\n",
        "**Goal of this tempalte** is to facilitate reporting of GoToVacc (get out to vaccinate) metrics. This script allows to pull a customized report with key GoToVacc metrics from 2 different data scources in less than 5 minutes.\n",
        "It used to take my team around 2 hours to pull this report by using excel and going through each data sheet manually. \n",
        "\n",
        "This template can be used for any state. In this template I am using the state of Wisconsin.\n",
        "\n",
        "**Key questions it will help you answer**\n",
        "\n",
        "This report will answer questions such as:\n",
        "\n",
        "\n",
        "*   What is the number of vaccination response engagements?\n",
        "*   What percent of users clicking on our ads are already vaccinated?\n",
        "*   How many users in our audience will share the vaccination message with their family and friends on FB?\n",
        "\n",
        "\n",
        "**What you need before running the code**\n",
        "\n",
        "To use this template you will need the following data sheets downloaded on your machine:\n",
        "\n",
        "\n",
        "*   Chatfuel data in csv (select the user segment in people's tab using unique defining attribute and export users selecting all the attributes, click on \"select all\")\n",
        "*   Facebook Ads data in xlsx (go to the ad campaign and create a report only using \"ad set\" as a parameter, don't include \"ad name\", pay attention to the date range you select in FB Ads, the results might be wrong or different if wrong dates are selected)\n",
        "\n",
        "\n",
        "**Adding the data to your code**\n",
        "\n",
        "After you have downloaded all the data to your machine, you will add it to your files folder by clicking on the file icon on the right. Click on the option \"Upload to session storage\" and upload both sheets here. The 2 data sheets will appear next to \"sample data\" folder.\n",
        "Next you need to copy the path of each sheet by clicking on 3 dots next to each file name and clicking on \"copy path\". You will paste this path in the spaces provided in the top portion of this code.\n",
        "\n",
        "Now you can go through the code and follow the instructions hashed in green."
      ]
    },
    {
      "cell_type": "code",
      "metadata": {
        "id": "az5IvzCJKcQU"
      },
      "source": [
        "# Import librarires\n",
        "\n",
        "import pandas as pd\n",
        "import numpy as np\n",
        "from datetime import date"
      ],
      "execution_count": 10,
      "outputs": []
    },
    {
      "cell_type": "code",
      "metadata": {
        "id": "Rur8bAIaK0jg"
      },
      "source": [
        "# Copy the path from Chatfuel data by clicking on 3 dots next to the file name\n",
        "# Paste this path in the place of the previous path, you will replace the \"/content/Localyst_2021_09_28_20_16_04.csv\" bit)\n",
        "# If needed please read the instructions above\n",
        "\n",
        "cf_data=pd.read_csv(\"/content/Localyst_2021_11_10_00_09_53.csv\")\n",
        "cf_data.head(5)"
      ],
      "execution_count": null,
      "outputs": []
    },
    {
      "cell_type": "code",
      "metadata": {
        "id": "SNJhII00K27Z"
      },
      "source": [
        "# Copy the path from Facebook Ads data by clicking on 3 dots next to the file name\n",
        "# Paste this path in the place of the previous path, you will replace the \"/content/Virginia_09-28_new.xlsx\" bit)\n",
        "# If needed please read the instructions above\n",
        "\n",
        "fb_data=pd.read_excel(\"/content/WI_Vaccine_FB_11_07_2021-Jun-1-2021-to-Nov-7-2021.xlsx\")\n",
        "fb_data.head(3)"
      ],
      "execution_count": null,
      "outputs": []
    },
    {
      "cell_type": "markdown",
      "metadata": {
        "id": "FKS2snyVK7SO"
      },
      "source": [
        "If you have succesfully copied and pasted the 2 paths, you can run the whole script. To run the script go to \"Runtime\" in the top menu and click on \"Run all\". The script will pause when it will ask you to enter your authentification to mount the drive to place the produced report on it. You will find more instructions at that step."
      ]
    },
    {
      "cell_type": "code",
      "metadata": {
        "id": "jF8SCqNPK9Wh"
      },
      "source": [
        "# set bold style for headers\n",
        "\n",
        "class style:\n",
        "   BOLD = '\\033[1m'\n",
        "   END = '\\033[0m'"
      ],
      "execution_count": 13,
      "outputs": []
    },
    {
      "cell_type": "code",
      "metadata": {
        "id": "lly05B6aLBnk"
      },
      "source": [
        "# Drop first row from the dataframe in Facebook ads data\n",
        "\n",
        "fb_data.drop([0], inplace = True)\n",
        "fb_data.head(3)"
      ],
      "execution_count": null,
      "outputs": []
    },
    {
      "cell_type": "code",
      "metadata": {
        "id": "7uF-ZA1oLD0l"
      },
      "source": [
        "# Grab the first row and make it the dataframe header in Facebook Ads data\n",
        "\n",
        "new_header = fb_data.iloc[0] #grab the first row for the header\n",
        "fb_data.columns = new_header #set the header row as the df header\n",
        "fb_data.drop([1], inplace = True) # drop the first row (only use this line if it is an extra text header)\n",
        "fb_data.head(10)"
      ],
      "execution_count": null,
      "outputs": []
    },
    {
      "cell_type": "code",
      "metadata": {
        "colab": {
          "base_uri": "https://localhost:8080/"
        },
        "id": "A4-BbXLkMmxW",
        "outputId": "c4bc1f2a-90cd-4f54-c734-504e6bb4b1f1"
      },
      "source": [
        "# Check columns in Facebook Ads data\n",
        "\n",
        "fb_data.columns"
      ],
      "execution_count": 16,
      "outputs": [
        {
          "output_type": "execute_result",
          "data": {
            "text/plain": [
              "Index([                        nan,               'Ad Set Name',\n",
              "                   'Campaign Name',                   'Ad Name',\n",
              "                               nan,           'Delivery Status',\n",
              "                  'Delivery Level',             'Campaign Name',\n",
              "             'Attribution Setting',               'Result Type',\n",
              "                         'Results',                     'Reach',\n",
              "                     'Impressions',           'Cost per Result',\n",
              "                 'Quality Ranking',   'Engagement Rate Ranking',\n",
              "         'Conversion Rate Ranking',        'Amount Spent (USD)',\n",
              "       'New Messaging Connections',               'Link Clicks',\n",
              "                'Reporting Starts',            'Reporting Ends'],\n",
              "      dtype='object', name=1)"
            ]
          },
          "metadata": {},
          "execution_count": 16
        }
      ]
    },
    {
      "cell_type": "code",
      "metadata": {
        "colab": {
          "base_uri": "https://localhost:8080/"
        },
        "id": "fLFHKgYZMozu",
        "outputId": "42e3bfae-b943-492c-f339-8a372764b760"
      },
      "source": [
        "# Rename certian columns in Facebook Ads data to avoid spaces\n",
        "\n",
        "fb_data = fb_data.rename(columns={'Ad Name':'ad_name'})\n",
        "fb_data = fb_data.rename(columns={'Campaign Name':'campaign_name'})\n",
        "fb_data = fb_data.rename(columns={'Ad Set Name':'adset_name'})\n",
        "fb_data = fb_data.rename(columns={'New Messaging Connections':'new_messaging_connections'})\n",
        "fb_data = fb_data.rename(columns={'Cost per Result':'cost_per_result'})\n",
        "fb_data = fb_data.rename(columns={'Amount Spent (USD)':'amount_spent_usd'})\n",
        "fb_data = fb_data.rename(columns={'Link Clicks':'link_clicks'})\n",
        "fb_data.columns"
      ],
      "execution_count": 17,
      "outputs": [
        {
          "output_type": "execute_result",
          "data": {
            "text/plain": [
              "Index([                        nan,                'adset_name',\n",
              "                   'campaign_name',                   'ad_name',\n",
              "                               nan,           'Delivery Status',\n",
              "                  'Delivery Level',             'campaign_name',\n",
              "             'Attribution Setting',               'Result Type',\n",
              "                         'Results',                     'Reach',\n",
              "                     'Impressions',           'cost_per_result',\n",
              "                 'Quality Ranking',   'Engagement Rate Ranking',\n",
              "         'Conversion Rate Ranking',          'amount_spent_usd',\n",
              "       'new_messaging_connections',               'link_clicks',\n",
              "                'Reporting Starts',            'Reporting Ends'],\n",
              "      dtype='object', name=1)"
            ]
          },
          "metadata": {},
          "execution_count": 17
        }
      ]
    },
    {
      "cell_type": "code",
      "metadata": {
        "id": "s0eiJEvlMrXO"
      },
      "source": [
        "# Delete rows in Facebook Ads Data where \"results\" and \"adset_name\" column values are NaN (this allows us to delete summary rows)\n",
        "\n",
        "fb_data = fb_data.dropna(subset=['Results', 'adset_name'])\n",
        "fb_data"
      ],
      "execution_count": null,
      "outputs": []
    },
    {
      "cell_type": "code",
      "metadata": {
        "id": "LvuGijSKMuOu"
      },
      "source": [
        "# delete adset for Racine\n",
        "\n",
        "fb_data = fb_data.loc[fb_data['adset_name'] != 'GTVac_Racine_set']\n",
        "fb_data"
      ],
      "execution_count": null,
      "outputs": []
    },
    {
      "cell_type": "code",
      "metadata": {
        "colab": {
          "base_uri": "https://localhost:8080/"
        },
        "id": "oVjQuZJNMwd2",
        "outputId": "d85b8087-28dd-402f-8a4e-9374db721a0d"
      },
      "source": [
        "# fb results sum of all adsets\n",
        "\n",
        "fb_results=fb_data['Results'].sum()\n",
        "fb_results"
      ],
      "execution_count": 20,
      "outputs": [
        {
          "output_type": "execute_result",
          "data": {
            "text/plain": [
              "3810"
            ]
          },
          "metadata": {},
          "execution_count": 20
        }
      ]
    },
    {
      "cell_type": "code",
      "metadata": {
        "colab": {
          "base_uri": "https://localhost:8080/",
          "height": 37
        },
        "id": "LaUHiDCxMyYh",
        "outputId": "aa9b5ab4-702c-4758-e692-66a182abcc1d"
      },
      "source": [
        "# fb mean of all results\n",
        "\n",
        "fb_cost_per_result_r=fb_data['cost_per_result'].mean()\n",
        "fb_cost_per_result='${:0,.2f}'.format(fb_data['cost_per_result'].mean())\n",
        "fb_cost_per_result"
      ],
      "execution_count": 21,
      "outputs": [
        {
          "output_type": "execute_result",
          "data": {
            "application/vnd.google.colaboratory.intrinsic+json": {
              "type": "string"
            },
            "text/plain": [
              "'$5.59'"
            ]
          },
          "metadata": {},
          "execution_count": 21
        }
      ]
    },
    {
      "cell_type": "code",
      "metadata": {
        "colab": {
          "base_uri": "https://localhost:8080/",
          "height": 37
        },
        "id": "xRn8D81FM0GD",
        "outputId": "36ac90b1-6911-4bc2-84de-e0f83957df80"
      },
      "source": [
        "# alternative way to get cost per result\n",
        "\n",
        "fb_cost_per_result_alt=fb_data['amount_spent_usd'].sum()/fb_data['Results'].sum()\n",
        "fb_cost_per_result_alt\n",
        "fb_cost_per_result_alt_for=fb_cost_per_result='${:0,.2f}'.format(fb_cost_per_result_alt)\n",
        "fb_cost_per_result_alt_for"
      ],
      "execution_count": 22,
      "outputs": [
        {
          "output_type": "execute_result",
          "data": {
            "application/vnd.google.colaboratory.intrinsic+json": {
              "type": "string"
            },
            "text/plain": [
              "'$5.73'"
            ]
          },
          "metadata": {},
          "execution_count": 22
        }
      ]
    },
    {
      "cell_type": "code",
      "metadata": {
        "id": "7sRs0KYcM1-P"
      },
      "source": [
        "# fb ad spend all adsets\n",
        "\n",
        "fb_total_ad_spend_r=fb_data['amount_spent_usd'].sum()\n",
        "fb_total_ad_spend='${:0,.2f}'.format(fb_data['amount_spent_usd'].sum())\n",
        "fb_total_ad_spend"
      ],
      "execution_count": null,
      "outputs": []
    },
    {
      "cell_type": "code",
      "metadata": {
        "colab": {
          "base_uri": "https://localhost:8080/"
        },
        "id": "OuQTnRAXM3rZ",
        "outputId": "5ead01ab-a2f4-457f-937b-a2d4db299037"
      },
      "source": [
        "# fb new messaging conversations started\n",
        "\n",
        "fb_new_messaging_connections=fb_data['new_messaging_connections'].sum()\n",
        "fb_new_messaging_connections"
      ],
      "execution_count": 24,
      "outputs": [
        {
          "output_type": "execute_result",
          "data": {
            "text/plain": [
              "3216"
            ]
          },
          "metadata": {},
          "execution_count": 24
        }
      ]
    },
    {
      "cell_type": "code",
      "metadata": {
        "colab": {
          "base_uri": "https://localhost:8080/"
        },
        "id": "t0r1PuCdM5vk",
        "outputId": "b5040b2d-5d0e-4b5c-ded2-4a36648ade4c"
      },
      "source": [
        "# check all unique adset names\n",
        "\n",
        "fb_data['adset_name'].unique()"
      ],
      "execution_count": 25,
      "outputs": [
        {
          "output_type": "execute_result",
          "data": {
            "text/plain": [
              "array(['GTVac_WISC_Misc_set', 'GTVac_Milwaukee_set', 'GTVac_Dane_set',\n",
              "       'GTVac_Waukesha_set', 'GTVac_Brown_set', 'GTVac_Rock_set',\n",
              "       'GTVac_Kenosha_set', 'GTVac_Outagamie_set', 'GTVac_Winnebago_set',\n",
              "       'GTVac_WISC_100_adset', 'GTVac_La_Crosse_set',\n",
              "       'GTVac_Marathon_set', 'GTVac_Fond_du_Lac_set',\n",
              "       'GTVac_Washington_set', 'GTVac_Eau_Claire_set',\n",
              "       'GTVac_Sheboygan_set', 'GTVac_Walworth_set'], dtype=object)"
            ]
          },
          "metadata": {},
          "execution_count": 25
        }
      ]
    },
    {
      "cell_type": "code",
      "metadata": {
        "colab": {
          "base_uri": "https://localhost:8080/"
        },
        "id": "fW1BdXUjM6fl",
        "outputId": "36e447bf-44be-4fcf-f3da-7f986a5f0c18"
      },
      "source": [
        "# Save total number of Chatfuel subscribers\n",
        "\n",
        "total_cf_subscribers=len(cf_data)\n",
        "total_cf_subscribers"
      ],
      "execution_count": 26,
      "outputs": [
        {
          "output_type": "execute_result",
          "data": {
            "text/plain": [
              "3506"
            ]
          },
          "metadata": {},
          "execution_count": 26
        }
      ]
    },
    {
      "cell_type": "code",
      "metadata": {
        "colab": {
          "base_uri": "https://localhost:8080/"
        },
        "id": "61iYt6ZhM8Lg",
        "outputId": "b903cb70-328c-40da-b904-326e9c117be0"
      },
      "source": [
        "cf_data.shape"
      ],
      "execution_count": 27,
      "outputs": [
        {
          "output_type": "execute_result",
          "data": {
            "text/plain": [
              "(3506, 483)"
            ]
          },
          "metadata": {},
          "execution_count": 27
        }
      ]
    },
    {
      "cell_type": "code",
      "metadata": {
        "colab": {
          "base_uri": "https://localhost:8080/"
        },
        "id": "NOa0wjWzM_if",
        "outputId": "ebcf4b61-a50d-4a51-92b8-0016f6a55003"
      },
      "source": [
        "# Check the county attribute in CF\n",
        "\n",
        "cf_data['county_localyst'].value_counts()"
      ],
      "execution_count": 28,
      "outputs": [
        {
          "output_type": "execute_result",
          "data": {
            "text/plain": [
              "your state     1510\n",
              "Milwaukee       435\n",
              "Racine          397\n",
              "Dane            211\n",
              "Waukesha        125\n",
              "Brown           104\n",
              "Rock             99\n",
              "Outagamie        92\n",
              "Winnebago        69\n",
              "Kenosha          65\n",
              "La Crosse        64\n",
              "Marathon         61\n",
              "Fond du Lac      58\n",
              "Eau Claire       56\n",
              "Sheboygan        47\n",
              "your county      44\n",
              "Washington       42\n",
              "Walworth         23\n",
              "Name: county_localyst, dtype: int64"
            ]
          },
          "metadata": {},
          "execution_count": 28
        }
      ]
    },
    {
      "cell_type": "code",
      "metadata": {
        "colab": {
          "base_uri": "https://localhost:8080/"
        },
        "id": "cOYZn6QaNBcH",
        "outputId": "e952e588-7213-4911-c943-c4508a630800"
      },
      "source": [
        "# take away Racine users from CF\n",
        "\n",
        "cf_data = cf_data.loc[cf_data['county_localyst'] != 'Racine']\n",
        "cf_data.shape"
      ],
      "execution_count": 29,
      "outputs": [
        {
          "output_type": "execute_result",
          "data": {
            "text/plain": [
              "(3109, 483)"
            ]
          },
          "metadata": {},
          "execution_count": 29
        }
      ]
    },
    {
      "cell_type": "code",
      "metadata": {
        "colab": {
          "base_uri": "https://localhost:8080/"
        },
        "id": "ulOuODkwNDOa",
        "outputId": "ed9f0917-e3ef-48ff-eec2-040db6f2c625"
      },
      "source": [
        "# Check the values for vaccination status attribute in CF\n",
        "\n",
        "cf_data['Vaccinated_Wisc_from_ad'].value_counts()"
      ],
      "execution_count": 30,
      "outputs": [
        {
          "output_type": "execute_result",
          "data": {
            "text/plain": [
              "yes    2706\n",
              "no      400\n",
              "Name: Vaccinated_Wisc_from_ad, dtype: int64"
            ]
          },
          "metadata": {},
          "execution_count": 30
        }
      ]
    },
    {
      "cell_type": "code",
      "metadata": {
        "colab": {
          "base_uri": "https://localhost:8080/"
        },
        "id": "5YUsF_QDNEAm",
        "outputId": "6b3329a7-b4e5-430c-ccfd-45f80060acd1"
      },
      "source": [
        "# Check the county attribute in CF to make sure there are no Racine users\n",
        "\n",
        "cf_data['county_localyst'].value_counts()"
      ],
      "execution_count": 31,
      "outputs": [
        {
          "output_type": "execute_result",
          "data": {
            "text/plain": [
              "your state     1510\n",
              "Milwaukee       435\n",
              "Dane            211\n",
              "Waukesha        125\n",
              "Brown           104\n",
              "Rock             99\n",
              "Outagamie        92\n",
              "Winnebago        69\n",
              "Kenosha          65\n",
              "La Crosse        64\n",
              "Marathon         61\n",
              "Fond du Lac      58\n",
              "Eau Claire       56\n",
              "Sheboygan        47\n",
              "your county      44\n",
              "Washington       42\n",
              "Walworth         23\n",
              "Name: county_localyst, dtype: int64"
            ]
          },
          "metadata": {},
          "execution_count": 31
        }
      ]
    },
    {
      "cell_type": "code",
      "metadata": {
        "colab": {
          "base_uri": "https://localhost:8080/"
        },
        "id": "poBuZqYNNHFK",
        "outputId": "5cf26685-c02c-47cb-a15d-c7d04a142ee9"
      },
      "source": [
        "cf_data['wi_GTVac_action'].value_counts()"
      ],
      "execution_count": 32,
      "outputs": [
        {
          "output_type": "execute_result",
          "data": {
            "text/plain": [
              "already_vaccinated                      2584\n",
              "not_vaccinated_yet                       323\n",
              "no_action_taken_$100                      55\n",
              "already_vaccinated_$100_not_eligible      43\n",
              "need_vaccine_info                         27\n",
              "need_vaccine_appt                         25\n",
              "already_vaccinated_$100                   24\n",
              "have_appointment                          14\n",
              "not_vaccinated_yet_$100                    8\n",
              "share_ask_by_champion                      2\n",
              "no_action_taken                            1\n",
              "Name: wi_GTVac_action, dtype: int64"
            ]
          },
          "metadata": {},
          "execution_count": 32
        }
      ]
    },
    {
      "cell_type": "code",
      "metadata": {
        "colab": {
          "base_uri": "https://localhost:8080/"
        },
        "id": "wY9c0Ki3NNMO",
        "outputId": "a4a7def2-75a1-42ce-f5ad-92144928cda0"
      },
      "source": [
        "cf_data['share_ask_received'].value_counts()"
      ],
      "execution_count": 33,
      "outputs": [
        {
          "output_type": "execute_result",
          "data": {
            "text/plain": [
              "wi_GTVac_2021                             2649\n",
              "vaccine_Racine_2021                          9\n",
              "requested_vaccine_appointment_WI_GTVac       9\n",
              "gotv_apr_2021_wisc                           2\n",
              "cpd_voting_rights                            2\n",
              "aart_legalize_test_1                         1\n",
              "marijuana_2021_loc_main_phone                1\n",
              "Name: share_ask_received, dtype: int64"
            ]
          },
          "metadata": {},
          "execution_count": 33
        }
      ]
    },
    {
      "cell_type": "code",
      "metadata": {
        "colab": {
          "base_uri": "https://localhost:8080/"
        },
        "id": "HkJMv1x7NPwi",
        "outputId": "27795b08-a065-4670-cd10-0fdf6f6ab362"
      },
      "source": [
        "cf_data['share_card_received'].value_counts()"
      ],
      "execution_count": 34,
      "outputs": [
        {
          "output_type": "execute_result",
          "data": {
            "text/plain": [
              "wi_go_to_vac_backup      805\n",
              "wi_GTVac_2021             26\n",
              "gotv_apr_2021_wisc        13\n",
              "racine_vaccine_backup      5\n",
              "vaccine_Racine_2021        3\n",
              "cpd_voting_rights          2\n",
              "aart_legalize_test_1       1\n",
              "Name: share_card_received, dtype: int64"
            ]
          },
          "metadata": {},
          "execution_count": 34
        }
      ]
    },
    {
      "cell_type": "code",
      "metadata": {
        "colab": {
          "base_uri": "https://localhost:8080/"
        },
        "id": "9uboVu8xNR2m",
        "outputId": "52a8c272-fc1c-429b-d46f-41d739c2873b"
      },
      "source": [
        "# Save total number of live chat users\n",
        "\n",
        "live_chat=sum(cf_data['live_chat_test'].value_counts())\n",
        "live_chat"
      ],
      "execution_count": 35,
      "outputs": [
        {
          "output_type": "execute_result",
          "data": {
            "text/plain": [
              "143"
            ]
          },
          "metadata": {},
          "execution_count": 35
        }
      ]
    },
    {
      "cell_type": "code",
      "metadata": {
        "colab": {
          "base_uri": "https://localhost:8080/"
        },
        "id": "_tyomW8oNZDq",
        "outputId": "280811a4-536b-4280-d4e6-3416b180857c"
      },
      "source": [
        "# Save total number of phone number aks\n",
        "\n",
        "phones_cf=sum(cf_data['phone_number'].value_counts())\n",
        "phones_cf"
      ],
      "execution_count": 36,
      "outputs": [
        {
          "output_type": "execute_result",
          "data": {
            "text/plain": [
              "34"
            ]
          },
          "metadata": {},
          "execution_count": 36
        }
      ]
    },
    {
      "cell_type": "code",
      "metadata": {
        "colab": {
          "base_uri": "https://localhost:8080/"
        },
        "id": "PJ4ow1RMNa-3",
        "outputId": "f4247768-3d21-48f3-de2a-ef6ca051a470"
      },
      "source": [
        "# Save total number of share agrees\n",
        "share_agree=sum(cf_data['share_card_received'].value_counts())\n",
        "share_agree"
      ],
      "execution_count": 37,
      "outputs": [
        {
          "output_type": "execute_result",
          "data": {
            "text/plain": [
              "855"
            ]
          },
          "metadata": {},
          "execution_count": 37
        }
      ]
    },
    {
      "cell_type": "code",
      "metadata": {
        "id": "X9ZJzjgFNdFR"
      },
      "source": [
        "# Save a slice of data with phone numbers that are digits (not words)\n",
        "\n",
        "phone_list=cf_data[cf_data['phone_number'].apply(lambda x: str(x).isdigit())]\n",
        "phone_list"
      ],
      "execution_count": null,
      "outputs": []
    },
    {
      "cell_type": "code",
      "metadata": {
        "colab": {
          "base_uri": "https://localhost:8080/"
        },
        "id": "GVdu8NJvNihr",
        "outputId": "67f9767b-9596-4c9b-e5ab-1523736cef83"
      },
      "source": [
        "# Save total number of phone numbers submitted as digits\n",
        "\n",
        "number_phones_submitted=len(phone_list['phone_number'].value_counts())\n",
        "number_phones_submitted"
      ],
      "execution_count": 39,
      "outputs": [
        {
          "output_type": "execute_result",
          "data": {
            "text/plain": [
              "19"
            ]
          },
          "metadata": {},
          "execution_count": 39
        }
      ]
    },
    {
      "cell_type": "code",
      "metadata": {
        "colab": {
          "base_uri": "https://localhost:8080/"
        },
        "id": "pvtb1YRmNkch",
        "outputId": "61545466-54b4-4fa5-c05f-f0f6fefd2a83"
      },
      "source": [
        "cf_data['wi_GTVac_action'].value_counts()"
      ],
      "execution_count": 40,
      "outputs": [
        {
          "output_type": "execute_result",
          "data": {
            "text/plain": [
              "already_vaccinated                      2584\n",
              "not_vaccinated_yet                       323\n",
              "no_action_taken_$100                      55\n",
              "already_vaccinated_$100_not_eligible      43\n",
              "need_vaccine_info                         27\n",
              "need_vaccine_appt                         25\n",
              "already_vaccinated_$100                   24\n",
              "have_appointment                          14\n",
              "not_vaccinated_yet_$100                    8\n",
              "share_ask_by_champion                      2\n",
              "no_action_taken                            1\n",
              "Name: wi_GTVac_action, dtype: int64"
            ]
          },
          "metadata": {},
          "execution_count": 40
        }
      ]
    },
    {
      "cell_type": "code",
      "metadata": {
        "colab": {
          "base_uri": "https://localhost:8080/"
        },
        "id": "yKHRDsAGNmPs",
        "outputId": "944b594e-c08c-49ec-b657-ed48f00e716b"
      },
      "source": [
        "vaccinated_users=len(cf_data[cf_data['wi_GTVac_action']== 'already_vaccinated']) + len(cf_data[cf_data['wi_GTVac_action']== 'already_vaccinated_$100_not_eligible'])+len(cf_data[cf_data['wi_GTVac_action']== 'already_vaccinated_$100'])\n",
        "vaccinated_users"
      ],
      "execution_count": 41,
      "outputs": [
        {
          "output_type": "execute_result",
          "data": {
            "text/plain": [
              "2651"
            ]
          },
          "metadata": {},
          "execution_count": 41
        }
      ]
    },
    {
      "cell_type": "code",
      "metadata": {
        "colab": {
          "base_uri": "https://localhost:8080/"
        },
        "id": "6cAa8p_fNoN0",
        "outputId": "485cc847-e4c2-4d64-8940-10a9464f295c"
      },
      "source": [
        "# filter for vaccianted that clicked on \"I will share\"\n",
        "\n",
        "filtered_values = cf_data[(cf_data['wi_GTVac_action']=='already_vaccinated') & (cf_data['share_card_received'] != 'not set')]\n",
        "filtered_values['share_card_received'].value_counts()"
      ],
      "execution_count": 42,
      "outputs": [
        {
          "output_type": "execute_result",
          "data": {
            "text/plain": [
              "wi_go_to_vac_backup      780\n",
              "wi_GTVac_2021             25\n",
              "gotv_apr_2021_wisc        12\n",
              "racine_vaccine_backup      2\n",
              "aart_legalize_test_1       1\n",
              "cpd_voting_rights          1\n",
              "vaccine_Racine_2021        1\n",
              "Name: share_card_received, dtype: int64"
            ]
          },
          "metadata": {},
          "execution_count": 42
        }
      ]
    },
    {
      "cell_type": "code",
      "metadata": {
        "colab": {
          "base_uri": "https://localhost:8080/"
        },
        "id": "us-jCyw0No4I",
        "outputId": "08dc5e41-213e-4ff2-a127-fff022fb5dc9"
      },
      "source": [
        "# total vaccinated action takers\n",
        "\n",
        "vaccinated_action_takers=sum(filtered_values['share_card_received'].value_counts())\n",
        "vaccinated_action_takers"
      ],
      "execution_count": 43,
      "outputs": [
        {
          "output_type": "execute_result",
          "data": {
            "text/plain": [
              "822"
            ]
          },
          "metadata": {},
          "execution_count": 43
        }
      ]
    },
    {
      "cell_type": "code",
      "metadata": {
        "colab": {
          "base_uri": "https://localhost:8080/"
        },
        "id": "BhoIAfSyNq-L",
        "outputId": "438f37e9-0b7a-48d1-a6d1-367c246d3a54"
      },
      "source": [
        "not_vac_action_takers=len(cf_data[cf_data['wi_GTVac_action']== 'need_vaccine_info']) + len(cf_data[cf_data['wi_GTVac_action']== 'need_vaccine_appt'])+len(cf_data[cf_data['wi_GTVac_action']== 'have_appointment'])\n",
        "not_vac_action_takers"
      ],
      "execution_count": 44,
      "outputs": [
        {
          "output_type": "execute_result",
          "data": {
            "text/plain": [
              "66"
            ]
          },
          "metadata": {},
          "execution_count": 44
        }
      ]
    },
    {
      "cell_type": "code",
      "metadata": {
        "colab": {
          "base_uri": "https://localhost:8080/"
        },
        "id": "VVEOTaaRNspZ",
        "outputId": "d8144720-0026-46a1-d678-248d20af2969"
      },
      "source": [
        "total_action_takers=not_vac_action_takers+vaccinated_action_takers\n",
        "total_action_takers"
      ],
      "execution_count": 45,
      "outputs": [
        {
          "output_type": "execute_result",
          "data": {
            "text/plain": [
              "888"
            ]
          },
          "metadata": {},
          "execution_count": 45
        }
      ]
    },
    {
      "cell_type": "code",
      "metadata": {
        "id": "SWmyVO8UNuWl"
      },
      "source": [
        "# Create, format and save all the values we need for our report\n",
        "\n",
        "vaccinated_cf=len(cf_data[cf_data['Vaccinated_Wisc_from_ad']== 'yes'])\n",
        "not_vaccinated_cf=len(cf_data[cf_data['Vaccinated_Wisc_from_ad']== 'no'])\n",
        "total_subscribers=vaccinated_cf+not_vaccinated_cf\n",
        "percent_vaccinated='{:.0%}'.format(vaccinated_cf/total_subscribers)\n",
        "percent_not_vaccinated='{:.0%}'.format(not_vaccinated_cf/total_subscribers)\n",
        "cost_per_action_taker='${:0,.2f}'.format(fb_total_ad_spend_r/total_action_takers)\n",
        "percent_per_action_taker='{:.0%}'.format(total_action_takers/total_cf_subscribers)\n",
        "percent_per_action_taker_vac='{:.0%}'.format(vaccinated_action_takers/vaccinated_cf)\n",
        "percent_per_action_taker_not_vac='{:.0%}'.format(not_vac_action_takers/not_vaccinated_cf)\n",
        "cost_per_result_cf='${:0,.2f}'.format(fb_total_ad_spend_r/total_cf_subscribers)\n",
        "cost_per_share_agree='${:0,.2f}'.format(fb_total_ad_spend_r/share_agree)\n",
        "percent_share_agree='{:.0%}'.format(share_agree/total_cf_subscribers)"
      ],
      "execution_count": 46,
      "outputs": []
    },
    {
      "cell_type": "code",
      "metadata": {
        "id": "804JvUikNwg2"
      },
      "source": [
        "# initialize list of lists for the report\n",
        "\n",
        "new_df = [\n",
        "          ['Total Ad Spend (USD)', fb_total_ad_spend],\n",
        "          ['Total Subscribers Acquired FB (Results)', fb_results],\n",
        "          ['Total Subscribers Acquired CF', total_cf_subscribers],\n",
        "          ['Cost Per Result FB Ads (USD)', fb_cost_per_result_alt_for],\n",
        "          ['Cost Per Acquisition CF', cost_per_result_cf],\n",
        "          ['Total Vaccinated', vaccinated_cf],\n",
        "          ['% of Vaccinated', percent_vaccinated],\n",
        "          ['Total Not Vaccinated', not_vaccinated_cf],\n",
        "          ['% of Not Vaccinated', percent_not_vaccinated],\n",
        "          ['Vaccinated Action Takers', vaccinated_action_takers],\n",
        "          ['% of Vaccinated Action Takerse (from Vaccinated Users)', percent_per_action_taker_vac],\n",
        "          ['Not Vaccinated Action Takers', not_vac_action_takers],\n",
        "          ['% of Not Vaccinated Action Takers (from Not Vaccinated Users', percent_per_action_taker_not_vac],\n",
        "          ['Total Action Takers', total_action_takers],\n",
        "          ['% of Action Takers', percent_per_action_taker],\n",
        "          ['Cost Per Action Taker', cost_per_action_taker],\n",
        "          ['Total Agree to Relational Shares', share_agree],\n",
        "          ['% of Total Agree to Relational Shares', percent_share_agree],\n",
        "          ['Cost Per Agree to Relational share', cost_per_share_agree],\n",
        "          ['Live Chat engagements', live_chat],\n",
        "          \n",
        "          \n",
        "          \n",
        "        ]\n",
        " \n",
        "# Create the pandas DataFrame\n",
        "GoToVacc_metrics = pd.DataFrame(new_df, columns = ['Description', 'Metric'])\n",
        "GoToVacc_metrics"
      ],
      "execution_count": null,
      "outputs": []
    },
    {
      "cell_type": "code",
      "metadata": {
        "id": "JLv-fy6sN05N"
      },
      "source": [
        "# EDA: vaccination status by county\n",
        "\n",
        "cf_county = cf_data[['county_localyst', 'Vaccinated_Wisc_from_ad']]\n",
        "breakdown_county_cf=cf_county.value_counts()\n",
        "breakdown_county_cf"
      ],
      "execution_count": null,
      "outputs": []
    },
    {
      "cell_type": "code",
      "metadata": {
        "id": "BV0gUV6IN3E4"
      },
      "source": [
        "# EDA: petition signature by share agrees\n",
        "\n",
        "cf_share = cf_data[['county_localyst', 'share_card_received']]\n",
        "cf_share.value_counts()"
      ],
      "execution_count": null,
      "outputs": []
    },
    {
      "cell_type": "markdown",
      "metadata": {
        "id": "Wf0j6WV_N5gH"
      },
      "source": [
        "**Here you need to click on the link and it will create a authentification token that you will plaste in the space provided in the code**\n",
        "Click on the link that appears after \"Go to this URL in a browser:\" Chose your google account, sign in, copy the token. Paste the token in the slot provided in the script and click \"enter\"."
      ]
    },
    {
      "cell_type": "code",
      "metadata": {
        "colab": {
          "base_uri": "https://localhost:8080/"
        },
        "id": "Nhe8_CTtOChi",
        "outputId": "16b3c2fe-6dd6-4374-b546-1ad33ebbf308"
      },
      "source": [
        "# Mount drive from google\n",
        "\n",
        "from google.colab import drive\n",
        "drive.mount('drive')"
      ],
      "execution_count": 50,
      "outputs": [
        {
          "output_type": "stream",
          "name": "stdout",
          "text": [
            "Mounted at drive\n"
          ]
        }
      ]
    },
    {
      "cell_type": "code",
      "metadata": {
        "colab": {
          "base_uri": "https://localhost:8080/",
          "height": 37
        },
        "id": "CxfmMUzqN8g_",
        "outputId": "efe7cdfd-3b68-471b-b043-2c8a1f629701"
      },
      "source": [
        "from datetime import datetime\n",
        "from pytz import timezone\n",
        "import pytz\n",
        "\n",
        "def get_pst_time():\n",
        "    date_format='%m_%d_%Y_%H_%M_%S_%Z'\n",
        "    date = datetime.now(tz=pytz.utc)\n",
        "    date = date.astimezone(timezone('US/Pacific'))\n",
        "    pstDateTime=date.strftime(date_format)\n",
        "    return pstDateTime\n",
        "\n",
        "\n",
        "date_PDT=get_pst_time()\n",
        "date_PDT"
      ],
      "execution_count": 51,
      "outputs": [
        {
          "output_type": "execute_result",
          "data": {
            "application/vnd.google.colaboratory.intrinsic+json": {
              "type": "string"
            },
            "text/plain": [
              "'11_09_2021_16_23_15_PST'"
            ]
          },
          "metadata": {},
          "execution_count": 51
        }
      ]
    },
    {
      "cell_type": "code",
      "metadata": {
        "colab": {
          "base_uri": "https://localhost:8080/",
          "height": 37
        },
        "id": "tvAZkozxOA1j",
        "outputId": "2a6957ee-097b-4f67-907f-185c52cd4d51"
      },
      "source": [
        "today = date.today()\n",
        "today = today.strftime(\"%b-%d-%Y\")\n",
        "today"
      ],
      "execution_count": 52,
      "outputs": [
        {
          "output_type": "execute_result",
          "data": {
            "application/vnd.google.colaboratory.intrinsic+json": {
              "type": "string"
            },
            "text/plain": [
              "'Nov-10-2021'"
            ]
          },
          "metadata": {},
          "execution_count": 52
        }
      ]
    },
    {
      "cell_type": "code",
      "metadata": {
        "colab": {
          "base_uri": "https://localhost:8080/"
        },
        "id": "ihRcBCkFOFG_",
        "outputId": "5ff10905-bd52-4d04-a3b8-1aa9bf4f2365"
      },
      "source": [
        "# Export metrics report back to files\n",
        "# The files will be in the same folder where you uploaded the data\n",
        "\n",
        "GoToVacc_metrics.to_csv(f'{date_PDT}-Wisconsin GoToVacc Metrics.csv')\n",
        "!cp WISC_GoToVacc_Metrics.csv \"drive/My Drive/\""
      ],
      "execution_count": 53,
      "outputs": [
        {
          "output_type": "stream",
          "name": "stdout",
          "text": [
            "cp: cannot stat 'WISC_GoToVacc_Metrics.csv': No such file or directory\n"
          ]
        }
      ]
    }
  ]
}