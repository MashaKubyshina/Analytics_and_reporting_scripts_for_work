{
  "nbformat": 4,
  "nbformat_minor": 0,
  "metadata": {
    "colab": {
      "name": "AB_Test_Cost_Per_Targeted_Subscriber.ipynb",
      "provenance": [],
      "authorship_tag": "ABX9TyOGQKJDyZpjp6TvpxXKs8E6",
      "include_colab_link": true
    },
    "kernelspec": {
      "name": "python3",
      "display_name": "Python 3"
    },
    "language_info": {
      "name": "python"
    }
  },
  "cells": [
    {
      "cell_type": "markdown",
      "metadata": {
        "id": "view-in-github",
        "colab_type": "text"
      },
      "source": [
        "<a href=\"https://colab.research.google.com/github/MashaKubyshina/Analytics_and_reporting_scripts_for_work/blob/main/AB_Test_Cost_Per_Targeted_Subscriber.ipynb\" target=\"_parent\"><img src=\"https://colab.research.google.com/assets/colab-badge.svg\" alt=\"Open In Colab\"/></a>"
      ]
    },
    {
      "cell_type": "markdown",
      "metadata": {
        "id": "bn4Z8z7O1pco"
      },
      "source": [
        "### **AB Test: Find cost per subscriber from FB ads in GoToVacc**\n",
        "\n",
        "**Goal of this tempalte** is to facilitate reporting of GoToVacc (get out to vaccinate) metrics. This script allows to pull a customized report with key GoToVacc metrics from 2 different data scources in less than 5 minutes. \n",
        "\n",
        "This template can be used for any state. In this template I am using the state of Wisconsin.\n",
        "\n",
        "**Key questions it will help you answer**\n",
        "\n",
        "In this AB test we have 2 groups:\n",
        "*   Group A: users geo targeted in FB ads (county targeting at ads level)\n",
        "*   Group B: users without geo targeting in FB ads who got the zip code ask in the first step of the conversational flow.\n",
        "\n",
        "We will be comparing cost per aquiring user A (user who entered the conversational flow from targeted FB ad) with the cost per acquiring user B (in this case we find user as a person who submtited their zip code).\n",
        "\n",
        "This report will answer questions such as:\n",
        "\n",
        "\n",
        "*   What is the number of zip codes submitted and cost per zip code in statewide and misc groups?\n",
        "*   What is the cost per \"geo-located\" user in groups A and B?\n",
        "*   What percent of users will take action?\n",
        "*   What is the cost per action taker?\n",
        "*   What is the number of vaccination response engagements?\n",
        "*   How many users in our audience will share the vaccination message with their family and friends on FB?\n",
        "\n",
        "\n",
        "**What you need before running the code**\n",
        "\n",
        "To use this template you will need the following data sheets downloaded on your machine:\n",
        "\n",
        "\n",
        "*   Chatfuel data in csv (select the user segment in people's tab using unique defining attribute and export users selecting all the attributes, click on \"select all\")\n",
        "*   Facebook Ads data in xlsx (go to the ad campaign and create a report only using \"ad set\" as a parameter, don't include \"ad name\", pay attention to the date range you select in FB Ads, the results might be wrong or different if wrong dates are selected)\n",
        "\n",
        "\n",
        "**Adding the data to your code**\n",
        "\n",
        "After you have downloaded all the data to your machine, you will add it to your files folder by clicking on the file icon on the right. Click on the option \"Upload to session storage\" and upload both sheets here. The 2 data sheets will appear next to \"sample data\" folder.\n",
        "Next you need to copy the path of each sheet by clicking on 3 dots next to each file name and clicking on \"copy path\". You will paste this path in the spaces provided in the top portion of this code.\n",
        "\n",
        "Now you can go through the code and follow the instructions hashed in green.\n",
        " \n",
        "\n",
        "\n",
        "\n"
      ]
    },
    {
      "cell_type": "markdown",
      "source": [
        "**I deleted all the outputs in this script to protect PII and company data.**"
      ],
      "metadata": {
        "id": "1V8p5x-dyqaY"
      }
    },
    {
      "cell_type": "code",
      "metadata": {
        "id": "i01muPpKsKK3"
      },
      "source": [
        "# Import librarires\n",
        "\n",
        "import pandas as pd\n",
        "import numpy as np\n",
        "from datetime import date"
      ],
      "execution_count": 23,
      "outputs": []
    },
    {
      "cell_type": "code",
      "metadata": {
        "id": "fRHTVUkaIxA3"
      },
      "source": [
        "# Copy the path from Chatfuel data by clicking on 3 dots next to the file name\n",
        "# Paste this path in the place of the previous path, you will replace the \"/content/2022_02_09_19_29_31.csv\" bit)\n",
        "# If needed please read the instructions above\n",
        "\n",
        "cf_data=pd.read_csv(\"/content/2022_02_09_19_29_31.csv\")\n",
        "cf_data.head(5)"
      ],
      "execution_count": null,
      "outputs": []
    },
    {
      "cell_type": "code",
      "metadata": {
        "id": "QoYS2qcMhIib"
      },
      "source": [
        "# Copy the path from Facebook Ads data by clicking on 3 dots next to the file name\n",
        "# Paste this path in the place of the previous path, you will replace the \"/content/02_09_2022-Jan-1-2022-to-Feb-9-2022.xlsx\" bit)\n",
        "# If needed please read the instructions above\n",
        "\n",
        "fb_data=pd.read_excel(\"/content/02_09_2022-Jan-1-2022-to-Feb-9-2022.xlsx\")\n",
        "fb_data.head(4)"
      ],
      "execution_count": null,
      "outputs": []
    },
    {
      "cell_type": "markdown",
      "metadata": {
        "id": "46SUynWwBfvS"
      },
      "source": [
        "**If you have succesfully copied and pasted the 3 paths, you can run the whole script.**\n",
        "To run the script go to \"Runtime\" in the top menu and click on \"Run all\".\n",
        "The script will pause when it will ask you to enter your authentification to mount the drive to place the produced report on it. You will find more instructions at that step."
      ]
    },
    {
      "cell_type": "code",
      "metadata": {
        "id": "8OR4TW_zlj2t"
      },
      "source": [
        "# Drop first row from the dataframe in Facebook ads data\n",
        "\n",
        "fb_data.drop([0], inplace = True)\n",
        "fb_data.head(3)"
      ],
      "execution_count": null,
      "outputs": []
    },
    {
      "cell_type": "code",
      "metadata": {
        "id": "cksNgAZcmFgG"
      },
      "source": [
        "# Grab the first row and make it the dataframe header in Facebook Ads data\n",
        "\n",
        "new_header = fb_data.iloc[0] #grab the first row for the header\n",
        "fb_data.columns = new_header #set the header row as the df header\n",
        "fb_data.drop([1], inplace = True) # drop the first row (only use this line if it is an extra text header)\n",
        "fb_data.head(10)"
      ],
      "execution_count": null,
      "outputs": []
    },
    {
      "cell_type": "code",
      "metadata": {
        "colab": {
          "base_uri": "https://localhost:8080/"
        },
        "id": "P_WK_N1Lmj-3",
        "outputId": "fee5fa31-553e-4367-b54a-71aa46af0220"
      },
      "source": [
        "# Check columns in Facebook Ads data\n",
        "\n",
        "fb_data.columns"
      ],
      "execution_count": 29,
      "outputs": [
        {
          "output_type": "execute_result",
          "data": {
            "text/plain": [
              "Index([                        nan,               'Ad Set Name',\n",
              "                               nan,           'Delivery status',\n",
              "                  'Delivery level',             'Campaign name',\n",
              "             'Attribution setting',               'Result type',\n",
              "                         'Results',                     'Reach',\n",
              "                     'Impressions',           'Cost per result',\n",
              "                 'Quality ranking',   'Engagement rate ranking',\n",
              "         'Conversion rate ranking',        'Amount spent (USD)',\n",
              "       'New messaging connections',               'Link clicks',\n",
              "                'Reporting starts',            'Reporting ends'],\n",
              "      dtype='object', name=1)"
            ]
          },
          "metadata": {},
          "execution_count": 29
        }
      ]
    },
    {
      "cell_type": "code",
      "metadata": {
        "colab": {
          "base_uri": "https://localhost:8080/"
        },
        "id": "mMf3nq6kmsKB",
        "outputId": "905a7818-4b6c-4d59-8f62-508ee9dfcc6f"
      },
      "source": [
        "# Rename certian columns in Facebook Ads data to avoid spaces\n",
        "\n",
        "fb_data = fb_data.rename(columns={'Ad Name':'ad_name'})\n",
        "fb_data = fb_data.rename(columns={'Campaign name':'campaign_name'})\n",
        "fb_data = fb_data.rename(columns={'Ad Set Name':'adset_name'})\n",
        "fb_data = fb_data.rename(columns={'New messaging connections':'new_messaging_connections'})\n",
        "fb_data = fb_data.rename(columns={'Cost per result':'cost_per_result'})\n",
        "fb_data = fb_data.rename(columns={'Amount spent (USD)':'amount_spent_usd'})\n",
        "fb_data = fb_data.rename(columns={'Link Clicks':'link_clicks'})\n",
        "fb_data.columns"
      ],
      "execution_count": 30,
      "outputs": [
        {
          "output_type": "execute_result",
          "data": {
            "text/plain": [
              "Index([                        nan,                'adset_name',\n",
              "                               nan,           'Delivery status',\n",
              "                  'Delivery level',             'campaign_name',\n",
              "             'Attribution setting',               'Result type',\n",
              "                         'Results',                     'Reach',\n",
              "                     'Impressions',           'cost_per_result',\n",
              "                 'Quality ranking',   'Engagement rate ranking',\n",
              "         'Conversion rate ranking',          'amount_spent_usd',\n",
              "       'new_messaging_connections',               'Link clicks',\n",
              "                'Reporting starts',            'Reporting ends'],\n",
              "      dtype='object', name=1)"
            ]
          },
          "metadata": {},
          "execution_count": 30
        }
      ]
    },
    {
      "cell_type": "code",
      "metadata": {
        "id": "moaGoQs_rsVD"
      },
      "source": [
        "# Delete rows in Facebook Ads Data where \"results\" and \"adset_name\" column values are NaN (this allows us to delete summary rows)\n",
        "\n",
        "fb_data = fb_data.dropna(subset=['Results', 'adset_name'])\n",
        "fb_data"
      ],
      "execution_count": null,
      "outputs": []
    },
    {
      "cell_type": "code",
      "metadata": {
        "id": "j-MGlufTU5Co"
      },
      "source": [
        "# Separate group A data (6 counties)\n",
        "\n",
        "groupA_fb_data = fb_data[(fb_data['adset_name'] != 'WISC_Scaled_GoToVacc_Statewide') & (fb_data['adset_name'] != 'WISC_Scaled_GoToVacc_misc')] \n",
        "groupA_fb_data"
      ],
      "execution_count": null,
      "outputs": []
    },
    {
      "cell_type": "code",
      "metadata": {
        "id": "bTQlSam-VBnd"
      },
      "source": [
        "# Separate group B data (misc and statewide)\n",
        "\n",
        "groupB_fb_data = fb_data[(fb_data['adset_name'] == 'WISC_Scaled_GoToVacc_Statewide') | (fb_data['adset_name'] == 'WISC_Scaled_GoToVacc_misc')] \n",
        "groupB_fb_data"
      ],
      "execution_count": null,
      "outputs": []
    },
    {
      "cell_type": "code",
      "metadata": {
        "id": "h---q018kaWu"
      },
      "source": [
        "# Fb results sum of all adsets\n",
        "\n",
        "fb_results=fb_data['Results'].sum()\n",
        "fb_results"
      ],
      "execution_count": null,
      "outputs": []
    },
    {
      "cell_type": "code",
      "metadata": {
        "id": "SlzaSAPuXgQW"
      },
      "source": [
        "# Check FB results for group A\n",
        "\n",
        "groupA_fb_results=groupA_fb_data['Results'].sum()\n",
        "groupA_fb_results"
      ],
      "execution_count": null,
      "outputs": []
    },
    {
      "cell_type": "code",
      "metadata": {
        "id": "5t-q-veIXmcM"
      },
      "source": [
        "# Check FB results for group B\n",
        "\n",
        "groupB_fb_results=groupB_fb_data['Results'].sum()\n",
        "int(groupB_fb_results)"
      ],
      "execution_count": null,
      "outputs": []
    },
    {
      "cell_type": "code",
      "metadata": {
        "id": "Nwc-rUp0n8_4"
      },
      "source": [
        "# Fb mean of all results\n",
        "\n",
        "fb_cost_per_result_r=fb_data['cost_per_result'].mean()\n",
        "fb_cost_per_result='${:0,.2f}'.format(fb_data['cost_per_result'].mean())\n",
        "fb_cost_per_result"
      ],
      "execution_count": null,
      "outputs": []
    },
    {
      "cell_type": "code",
      "metadata": {
        "id": "flm9uM02Xr_L"
      },
      "source": [
        "# Fb mean of A group results\n",
        "\n",
        "A_fb_cost_per_result_r=groupA_fb_data['cost_per_result'].mean()\n",
        "A_fb_cost_per_result='${:0,.2f}'.format(groupA_fb_data['cost_per_result'].mean())\n",
        "A_fb_cost_per_result"
      ],
      "execution_count": null,
      "outputs": []
    },
    {
      "cell_type": "code",
      "metadata": {
        "id": "OvthVMFQXzOF"
      },
      "source": [
        "# Fb mean of B group results\n",
        "\n",
        "B_fb_cost_per_result_r=groupB_fb_data['cost_per_result'].mean()\n",
        "B_fb_cost_per_result='${:0,.2f}'.format(groupB_fb_data['cost_per_result'].mean())\n",
        "B_fb_cost_per_result"
      ],
      "execution_count": null,
      "outputs": []
    },
    {
      "cell_type": "code",
      "metadata": {
        "id": "hEV7jDHuykoA"
      },
      "source": [
        "# Alternative way to get cost per result (this should give the same number as we see on FB)\n",
        "\n",
        "fb_cost_per_result_alt=fb_data['amount_spent_usd'].sum()/fb_data['Results'].sum()\n",
        "fb_cost_per_result_alt\n",
        "fb_cost_per_result_alt_for=fb_cost_per_result='${:0,.2f}'.format(fb_cost_per_result_alt)\n",
        "fb_cost_per_result_alt_for"
      ],
      "execution_count": null,
      "outputs": []
    },
    {
      "cell_type": "code",
      "metadata": {
        "id": "5PgsZQWDcHbE"
      },
      "source": [
        "# Alternative way to get cost per result group A\n",
        "\n",
        "A_fb_cost_per_result_alt=groupA_fb_data['amount_spent_usd'].sum()/groupA_fb_data['Results'].sum()\n",
        "A_fb_cost_per_result_alt\n",
        "A_fb_cost_per_result_alt_for=groupA_fb_cost_per_result='${:0,.2f}'.format(A_fb_cost_per_result_alt)\n",
        "A_fb_cost_per_result_alt_for"
      ],
      "execution_count": null,
      "outputs": []
    },
    {
      "cell_type": "code",
      "metadata": {
        "id": "MoAIcS54cP5r"
      },
      "source": [
        "# Alternative way to get cost per result group B\n",
        "\n",
        "B_fb_cost_per_result_alt=groupB_fb_data['amount_spent_usd'].sum()/groupB_fb_data['Results'].sum()\n",
        "B_fb_cost_per_result_alt\n",
        "B_fb_cost_per_result_alt_for=groupB_fb_cost_per_result='${:0,.2f}'.format(B_fb_cost_per_result_alt)\n",
        "B_fb_cost_per_result_alt_for"
      ],
      "execution_count": null,
      "outputs": []
    },
    {
      "cell_type": "code",
      "metadata": {
        "id": "d4eWT9bOnDkn"
      },
      "source": [
        "# Fb ad spend all adsets\n",
        "\n",
        "fb_total_ad_spend_r=fb_data['amount_spent_usd'].sum()\n",
        "fb_total_ad_spend='${:0,.2f}'.format(fb_data['amount_spent_usd'].sum())\n",
        "fb_total_ad_spend"
      ],
      "execution_count": null,
      "outputs": []
    },
    {
      "cell_type": "code",
      "metadata": {
        "id": "pJ1ZMy2zX6mK"
      },
      "source": [
        "# Fb ad spend on groupA\n",
        "\n",
        "A_fb_total_ad_spend_r=groupA_fb_data['amount_spent_usd'].sum()\n",
        "A_fb_total_ad_spend='${:0,.2f}'.format(groupA_fb_data['amount_spent_usd'].sum())\n",
        "A_fb_total_ad_spend"
      ],
      "execution_count": null,
      "outputs": []
    },
    {
      "cell_type": "code",
      "metadata": {
        "id": "4nasECzeYAGm"
      },
      "source": [
        "# Fb ad spend on groupB\n",
        "\n",
        "B_fb_total_ad_spend_r=groupB_fb_data['amount_spent_usd'].sum()\n",
        "B_fb_total_ad_spend='${:0,.2f}'.format(groupB_fb_data['amount_spent_usd'].sum())\n",
        "B_fb_total_ad_spend"
      ],
      "execution_count": null,
      "outputs": []
    },
    {
      "cell_type": "code",
      "metadata": {
        "id": "rlAucbImnkMD"
      },
      "source": [
        "# Fb new messaging conversations started\n",
        "\n",
        "fb_new_messaging_connections=fb_data['new_messaging_connections'].sum()\n",
        "int(fb_new_messaging_connections)"
      ],
      "execution_count": null,
      "outputs": []
    },
    {
      "cell_type": "code",
      "metadata": {
        "id": "2LiKcl4BYF_N"
      },
      "source": [
        "# Fb new messaging conversations started in A group\n",
        "\n",
        "A_fb_new_messaging_connections=groupA_fb_data['new_messaging_connections'].sum()\n",
        "A_fb_new_messaging_connections"
      ],
      "execution_count": null,
      "outputs": []
    },
    {
      "cell_type": "code",
      "metadata": {
        "id": "24Z5GcuwYKdG"
      },
      "source": [
        "# Fb new messaging conversations started in B group\n",
        "\n",
        "B_fb_new_messaging_connections=groupB_fb_data['new_messaging_connections'].sum()\n",
        "B_fb_new_messaging_connections"
      ],
      "execution_count": null,
      "outputs": []
    },
    {
      "cell_type": "code",
      "metadata": {
        "id": "xRaT4ue8WScb"
      },
      "source": [
        "# Check all unique adset names\n",
        "\n",
        "fb_data['adset_name'].unique()"
      ],
      "execution_count": null,
      "outputs": []
    },
    {
      "cell_type": "code",
      "metadata": {
        "id": "kuhSe3pgt3TL"
      },
      "source": [
        "# Save total number of Chatfuel subscribers\n",
        "\n",
        "total_cf_subscribers=len(cf_data)\n",
        "total_cf_subscribers"
      ],
      "execution_count": null,
      "outputs": []
    },
    {
      "cell_type": "code",
      "metadata": {
        "id": "8Kfh4VYqO7V3"
      },
      "source": [
        "# Check the shape of the data\n",
        "\n",
        "cf_data.shape"
      ],
      "execution_count": null,
      "outputs": []
    },
    {
      "cell_type": "code",
      "metadata": {
        "id": "oD2e8ETaPuiH"
      },
      "source": [
        "# Check the county attribute in CF\n",
        "\n",
        "cf_data['county_localyst'].value_counts()"
      ],
      "execution_count": null,
      "outputs": []
    },
    {
      "cell_type": "code",
      "metadata": {
        "id": "Lk9PV5NQQ_1e"
      },
      "source": [
        "# Check the number of zip codes submitted\n",
        "\n",
        "sum(cf_data['zip_code'].value_counts())"
      ],
      "execution_count": null,
      "outputs": []
    },
    {
      "cell_type": "code",
      "metadata": {
        "id": "c5QRH47TYe_S"
      },
      "source": [
        "# Aeparate A data in CF\n",
        "\n",
        "A_cf_data = cf_data[(cf_data['adset_name'] != 'WISC_Scaled_GoToVacc_Statewide') & (cf_data['adset_name'] != 'WISC_Scaled_GoToVacc_misc')]\n",
        "A_cf_data"
      ],
      "execution_count": null,
      "outputs": []
    },
    {
      "cell_type": "code",
      "metadata": {
        "id": "cHIaV_JtY1Tj"
      },
      "source": [
        "# Separate B data in CF\n",
        "\n",
        "B_cf_data = cf_data[(cf_data['adset_name'] == 'WISC_Scaled_GoToVacc_Statewide') | (cf_data['adset_name'] == 'WISC_Scaled_GoToVacc_misc')]\n",
        "B_cf_data"
      ],
      "execution_count": null,
      "outputs": []
    },
    {
      "cell_type": "code",
      "metadata": {
        "id": "xM87xUsIbVoc"
      },
      "source": [
        "# Save total number of Chatfuel subscribers in group A\n",
        "\n",
        "A_total_cf_subscribers=len(A_cf_data)\n",
        "A_total_cf_subscribers"
      ],
      "execution_count": null,
      "outputs": []
    },
    {
      "cell_type": "code",
      "metadata": {
        "id": "tP2mLtSTbYpL"
      },
      "source": [
        "# Save total number of Chatfuel subscribers in group B\n",
        "\n",
        "B_total_cf_subscribers=len(B_cf_data)\n",
        "B_total_cf_subscribers"
      ],
      "execution_count": null,
      "outputs": []
    },
    {
      "cell_type": "code",
      "metadata": {
        "id": "5mmbDatfJFEV"
      },
      "source": [
        "# Check the values for vaccination status attribute in CF\n",
        "\n",
        "cf_data['Vaccinated_Wisc_from_ad'].value_counts()"
      ],
      "execution_count": null,
      "outputs": []
    },
    {
      "cell_type": "code",
      "metadata": {
        "id": "vOhvs8z5Y_5f"
      },
      "source": [
        "# Check the values for vaccination status attribute in CF in group A\n",
        "\n",
        "A_cf_data['Vaccinated_Wisc_from_ad'].value_counts()"
      ],
      "execution_count": null,
      "outputs": []
    },
    {
      "cell_type": "code",
      "metadata": {
        "id": "pHF8mRtwZBze"
      },
      "source": [
        "# Check the values for vaccination status attribute in CF in group B\n",
        "\n",
        "B_cf_data['Vaccinated_Wisc_from_ad'].value_counts()"
      ],
      "execution_count": null,
      "outputs": []
    },
    {
      "cell_type": "code",
      "metadata": {
        "id": "k-ZxgOHnRTtZ"
      },
      "source": [
        "# Check the county attribute in CF\n",
        "\n",
        "cf_data['county_localyst'].value_counts()"
      ],
      "execution_count": null,
      "outputs": []
    },
    {
      "cell_type": "code",
      "source": [
        "# Check the county attribute in CF in group A\n",
        "\n",
        "A_cf_data['county_localyst'].value_counts()"
      ],
      "metadata": {
        "id": "njzcBHxUGlLD"
      },
      "execution_count": null,
      "outputs": []
    },
    {
      "cell_type": "code",
      "metadata": {
        "id": "DXPaS8VrONYV"
      },
      "source": [
        "cf_data['wi_GTVac_action'].value_counts()"
      ],
      "execution_count": null,
      "outputs": []
    },
    {
      "cell_type": "code",
      "metadata": {
        "id": "-0oFTiEUOPTT"
      },
      "source": [
        "cf_data['share_ask_received'].value_counts()"
      ],
      "execution_count": null,
      "outputs": []
    },
    {
      "cell_type": "code",
      "metadata": {
        "id": "2amni7pky1z4"
      },
      "source": [
        "# Save total number of live chat users\n",
        "\n",
        "live_chat=sum(cf_data['live_chat_test'].value_counts())\n",
        "live_chat"
      ],
      "execution_count": null,
      "outputs": []
    },
    {
      "cell_type": "code",
      "metadata": {
        "id": "xDJ86nDPzEKI"
      },
      "source": [
        "# Save total number of zip codes submitted\n",
        "\n",
        "zip_code=sum(cf_data['zip_code'].value_counts())\n",
        "zip_code"
      ],
      "execution_count": null,
      "outputs": []
    },
    {
      "cell_type": "code",
      "metadata": {
        "id": "s5c1D_wf0ScM"
      },
      "source": [
        "# Save total number of share agrees\n",
        "share_agree=sum(cf_data['share_card_received'].value_counts())\n",
        "share_agree"
      ],
      "execution_count": null,
      "outputs": []
    },
    {
      "cell_type": "code",
      "metadata": {
        "id": "KZTufksEZN0R"
      },
      "source": [
        "# Save total number of share agrees in group A\n",
        "\n",
        "A_share_agree=sum(A_cf_data['share_card_received'].value_counts())\n",
        "A_share_agree"
      ],
      "execution_count": null,
      "outputs": []
    },
    {
      "cell_type": "code",
      "metadata": {
        "id": "x91MG8aGZRR6"
      },
      "source": [
        "# Save total number of share agrees in group B\n",
        "\n",
        "B_share_agree=sum(B_cf_data['share_card_received'].value_counts())\n",
        "B_share_agree"
      ],
      "execution_count": null,
      "outputs": []
    },
    {
      "cell_type": "code",
      "source": [
        "# Clean the zip codes column (fill NA, make it type integer)\n",
        "\n",
        "cf_data.zip_code=cf_data.zip_code.fillna(0.0).astype(int)\n",
        "cf_data.zip_code"
      ],
      "metadata": {
        "id": "_LFiacQNIdLM"
      },
      "execution_count": null,
      "outputs": []
    },
    {
      "cell_type": "code",
      "source": [
        "# Save a slice of data with zip codes that are digits (not words)\n",
        "\n",
        "zip_code_list=cf_data[(cf_data['zip_code'].apply(lambda x: str(x).isdigit())) & (cf_data['zip_code'] != 0)] \n",
        "zip_code_list"
      ],
      "metadata": {
        "id": "H4VmAzF-JkKZ"
      },
      "execution_count": null,
      "outputs": []
    },
    {
      "cell_type": "code",
      "source": [
        "# unique zip codes\n",
        "\n",
        "len(zip_code_list['zip_code'].unique())"
      ],
      "metadata": {
        "id": "NUryRqlEKMCX"
      },
      "execution_count": null,
      "outputs": []
    },
    {
      "cell_type": "code",
      "metadata": {
        "id": "lLj5z5CwOTit"
      },
      "source": [
        "# Save total number of phone numbers submitted as digits\n",
        "\n",
        "zip_codes_submitted=len(zip_code_list['zip_code'])\n",
        "zip_codes_submitted"
      ],
      "execution_count": null,
      "outputs": []
    },
    {
      "cell_type": "code",
      "metadata": {
        "id": "I5pw7A5a38HV"
      },
      "source": [
        "A_cf_data['wi_GTVac_action'].value_counts()"
      ],
      "execution_count": null,
      "outputs": []
    },
    {
      "cell_type": "code",
      "metadata": {
        "id": "4kDVZHFJZb3h"
      },
      "source": [
        "B_cf_data['wi_GTVac_action'].value_counts()"
      ],
      "execution_count": null,
      "outputs": []
    },
    {
      "cell_type": "code",
      "metadata": {
        "id": "qI1RSr46ZjHz"
      },
      "source": [
        "cf_data['wi_GTVac_action'].value_counts()"
      ],
      "execution_count": null,
      "outputs": []
    },
    {
      "cell_type": "code",
      "metadata": {
        "id": "38Zll96Y4B5J"
      },
      "source": [
        "vaccinated_users=len(cf_data[cf_data['wi_GTVac_action']== 'already_vaccinated']) + len(cf_data[cf_data['wi_GTVac_action']== 'already_vaccinated_$100_not_eligible'])+len(cf_data[cf_data['wi_GTVac_action']== 'already_vaccinated_$100'])\n",
        "vaccinated_users"
      ],
      "execution_count": null,
      "outputs": []
    },
    {
      "cell_type": "code",
      "metadata": {
        "id": "Hw-HF3n-Zm80"
      },
      "source": [
        "A_vaccinated_users=len(A_cf_data[A_cf_data['wi_GTVac_action']== 'already_vaccinated']) + len(A_cf_data[A_cf_data['wi_GTVac_action']== 'already_vaccinated_$100_not_eligible'])+len(A_cf_data[A_cf_data['wi_GTVac_action']== 'already_vaccinated_$100'])\n",
        "A_vaccinated_users"
      ],
      "execution_count": null,
      "outputs": []
    },
    {
      "cell_type": "code",
      "metadata": {
        "id": "6u872MhtZuQz"
      },
      "source": [
        "B_vaccinated_users=len(B_cf_data[B_cf_data['wi_GTVac_action']== 'already_vaccinated']) + len(B_cf_data[B_cf_data['wi_GTVac_action']== 'already_vaccinated_$100_not_eligible'])+len(B_cf_data[B_cf_data['wi_GTVac_action']== 'already_vaccinated_$100'])\n",
        "B_vaccinated_users"
      ],
      "execution_count": null,
      "outputs": []
    },
    {
      "cell_type": "code",
      "metadata": {
        "id": "S288_dXNIywU"
      },
      "source": [
        "# Filter for vaccianted that clicked on \"I will share\"\n",
        "\n",
        "filtered_values = cf_data[(cf_data['wi_GTVac_action']=='already_vaccinated') & (cf_data['share_card_received'] != 'not set')]\n",
        "filtered_values['share_card_received'].value_counts()"
      ],
      "execution_count": null,
      "outputs": []
    },
    {
      "cell_type": "code",
      "metadata": {
        "id": "IYFGeZrLZ2y0"
      },
      "source": [
        "# Filter for vaccianted that clicked on \"I will share\"\n",
        "\n",
        "A_filtered_values = A_cf_data[(A_cf_data['wi_GTVac_action']=='already_vaccinated') & (A_cf_data['share_card_received'] != 'not set')]\n",
        "A_filtered_values['share_card_received'].value_counts()"
      ],
      "execution_count": null,
      "outputs": []
    },
    {
      "cell_type": "code",
      "metadata": {
        "id": "ny_MsCtrZ9J_"
      },
      "source": [
        "# Filter for vaccianted that clicked on \"I will share\"\n",
        "\n",
        "B_filtered_values = B_cf_data[(B_cf_data['wi_GTVac_action']=='already_vaccinated') & (B_cf_data['share_card_received'] != 'not set')]\n",
        "B_filtered_values['share_card_received'].value_counts()"
      ],
      "execution_count": null,
      "outputs": []
    },
    {
      "cell_type": "code",
      "metadata": {
        "id": "1UwL_gn3JbE2"
      },
      "source": [
        "# Total vaccinated action takers\n",
        "\n",
        "vaccinated_action_takers=sum(filtered_values['share_card_received'].value_counts())\n",
        "vaccinated_action_takers"
      ],
      "execution_count": null,
      "outputs": []
    },
    {
      "cell_type": "code",
      "metadata": {
        "id": "ZkHGcojuaD0M"
      },
      "source": [
        "# Total vaccinated action takers in group A\n",
        "\n",
        "A_vaccinated_action_takers=sum(A_filtered_values['share_card_received'].value_counts())\n",
        "A_vaccinated_action_takers"
      ],
      "execution_count": null,
      "outputs": []
    },
    {
      "cell_type": "code",
      "metadata": {
        "id": "Fu04EY0-aHy-"
      },
      "source": [
        "# Total vaccinated action takers in group B\n",
        "\n",
        "B_vaccinated_action_takers=sum(B_filtered_values['share_card_received'].value_counts())\n",
        "B_vaccinated_action_takers"
      ],
      "execution_count": null,
      "outputs": []
    },
    {
      "cell_type": "code",
      "metadata": {
        "id": "-xsv3ldI6Djq"
      },
      "source": [
        "# Total of not vaccinated action takers\n",
        "\n",
        "not_vac_action_takers=len(cf_data[cf_data['wi_GTVac_action']== 'need_vaccine_info']) + len(cf_data[cf_data['wi_GTVac_action']== 'need_vaccine_appt'])+len(cf_data[cf_data['wi_GTVac_action']== 'have_appointment'])\n",
        "not_vac_action_takers"
      ],
      "execution_count": null,
      "outputs": []
    },
    {
      "cell_type": "code",
      "metadata": {
        "id": "oL_aJUkHaLep"
      },
      "source": [
        "# Total of not vaccinated action takers in group A\n",
        "\n",
        "A_not_vac_action_takers=len(A_cf_data[A_cf_data['wi_GTVac_action']== 'need_vaccine_info']) + len(A_cf_data[A_cf_data['wi_GTVac_action']== 'need_vaccine_appt'])+len(A_cf_data[A_cf_data['wi_GTVac_action']== 'have_appointment'])\n",
        "A_not_vac_action_takers"
      ],
      "execution_count": null,
      "outputs": []
    },
    {
      "cell_type": "code",
      "metadata": {
        "id": "aMa_7GDQaQcp"
      },
      "source": [
        "# Total of not vaccinated action takers in group B\n",
        "\n",
        "B_not_vac_action_takers=len(B_cf_data[B_cf_data['wi_GTVac_action']== 'need_vaccine_info']) + len(B_cf_data[B_cf_data['wi_GTVac_action']== 'need_vaccine_appt'])+len(B_cf_data[B_cf_data['wi_GTVac_action']== 'have_appointment'])\n",
        "B_not_vac_action_takers"
      ],
      "execution_count": null,
      "outputs": []
    },
    {
      "cell_type": "code",
      "metadata": {
        "id": "n-pDpVWOJ5_K"
      },
      "source": [
        "total_action_takers=not_vac_action_takers+vaccinated_action_takers\n",
        "total_action_takers"
      ],
      "execution_count": null,
      "outputs": []
    },
    {
      "cell_type": "code",
      "metadata": {
        "id": "3qHicM4HaXNM"
      },
      "source": [
        "A_total_action_takers=A_not_vac_action_takers+A_vaccinated_action_takers\n",
        "A_total_action_takers"
      ],
      "execution_count": null,
      "outputs": []
    },
    {
      "cell_type": "code",
      "metadata": {
        "id": "MYgOOSXDacxX"
      },
      "source": [
        "B_total_action_takers=B_not_vac_action_takers+B_vaccinated_action_takers\n",
        "B_total_action_takers"
      ],
      "execution_count": null,
      "outputs": []
    },
    {
      "cell_type": "code",
      "metadata": {
        "id": "joLtMyTfo1iI"
      },
      "source": [
        "# Create, format and save all the values we need for our report\n",
        "\n",
        "vaccinated_cf=len(cf_data[cf_data['Vaccinated_Wisc_from_ad']== 'yes'])\n",
        "not_vaccinated_cf=len(cf_data[cf_data['Vaccinated_Wisc_from_ad']== 'no'])\n",
        "total_subscribers=vaccinated_cf+not_vaccinated_cf\n",
        "percent_vaccinated='{:.0%}'.format(vaccinated_cf/total_subscribers)\n",
        "percent_not_vaccinated='{:.0%}'.format(not_vaccinated_cf/total_subscribers)\n",
        "cost_per_action_taker='${:0,.2f}'.format(fb_total_ad_spend_r/total_action_takers)\n",
        "percent_per_action_taker='{:.0%}'.format(total_action_takers/total_cf_subscribers)\n",
        "percent_per_action_taker_vac='{:.0%}'.format(vaccinated_action_takers/vaccinated_cf)\n",
        "percent_per_action_taker_not_vac='{:.0%}'.format(not_vac_action_takers/not_vaccinated_cf)\n",
        "cost_per_result_cf='${:0,.2f}'.format(fb_total_ad_spend_r/total_cf_subscribers)\n",
        "cost_per_share_agree='${:0,.2f}'.format(fb_total_ad_spend_r/share_agree)\n",
        "percent_share_agree='{:.0%}'.format(share_agree/total_cf_subscribers)"
      ],
      "execution_count": 93,
      "outputs": []
    },
    {
      "cell_type": "code",
      "metadata": {
        "id": "_lJSzj1BaiSw"
      },
      "source": [
        "# Create, format and save all the values we need for our report for A subset\n",
        "\n",
        "A_vaccinated_cf=len(A_cf_data[A_cf_data['Vaccinated_Wisc_from_ad']== 'yes'])\n",
        "A_not_vaccinated_cf=len(A_cf_data[A_cf_data['Vaccinated_Wisc_from_ad']== 'no'])\n",
        "A_total_subscribers=A_vaccinated_cf+A_not_vaccinated_cf\n",
        "A_percent_vaccinated='{:.0%}'.format(A_vaccinated_cf/A_total_subscribers)\n",
        "A_percent_not_vaccinated='{:.0%}'.format(A_not_vaccinated_cf/A_total_subscribers)\n",
        "A_cost_per_action_taker='${:0,.2f}'.format(A_fb_total_ad_spend_r/A_total_action_takers)\n",
        "A_percent_per_action_taker='{:.0%}'.format(A_total_action_takers/A_total_cf_subscribers)\n",
        "A_percent_per_action_taker_vac='{:.0%}'.format(A_vaccinated_action_takers/A_vaccinated_cf)\n",
        "A_percent_per_action_taker_not_vac='{:.0%}'.format(A_not_vac_action_takers/A_not_vaccinated_cf)\n",
        "A_cost_per_result_cf='${:0,.2f}'.format(A_fb_total_ad_spend_r/A_total_cf_subscribers)\n",
        "A_cost_per_share_agree='${:0,.2f}'.format(A_fb_total_ad_spend_r/A_share_agree)\n",
        "A_percent_share_agree='{:.0%}'.format(A_share_agree/A_total_cf_subscribers)"
      ],
      "execution_count": 94,
      "outputs": []
    },
    {
      "cell_type": "code",
      "metadata": {
        "id": "2yWIs5fEc6K1"
      },
      "source": [
        "# Create, format and save all the values we need for our report for B subset\n",
        "\n",
        "B_vaccinated_cf=len(B_cf_data[B_cf_data['Vaccinated_Wisc_from_ad']== 'yes'])\n",
        "B_not_vaccinated_cf=len(B_cf_data[B_cf_data['Vaccinated_Wisc_from_ad']== 'no'])\n",
        "B_total_subscribers=B_vaccinated_cf+B_not_vaccinated_cf\n",
        "B_percent_vaccinated='{:.0%}'.format(B_vaccinated_cf/B_total_subscribers)\n",
        "B_percent_not_vaccinated='{:.0%}'.format(B_not_vaccinated_cf/B_total_subscribers)\n",
        "B_cost_per_action_taker='${:0,.2f}'.format(B_fb_total_ad_spend_r/B_total_action_takers)\n",
        "B_percent_per_action_taker='{:.0%}'.format(B_total_action_takers/B_total_cf_subscribers)\n",
        "B_percent_per_action_taker_vac='{:.0%}'.format(B_vaccinated_action_takers/B_vaccinated_cf)\n",
        "B_percent_per_action_taker_not_vac='{:.0%}'.format(B_not_vac_action_takers/B_not_vaccinated_cf)\n",
        "B_cost_per_result_cf='${:0,.2f}'.format(B_fb_total_ad_spend_r/B_total_cf_subscribers)\n",
        "B_cost_per_share_agree='${:0,.2f}'.format(B_fb_total_ad_spend_r/B_share_agree)\n",
        "B_percent_share_agree='{:.0%}'.format(B_share_agree/B_total_cf_subscribers)\n",
        "B_cost_per_zip_code='${:0,.2f}'.format(B_fb_total_ad_spend_r/zip_codes_submitted)\n",
        "B_percent_zip_codes_submitted='{:.0%}'.format(zip_codes_submitted/B_total_cf_subscribers)"
      ],
      "execution_count": 95,
      "outputs": []
    },
    {
      "cell_type": "code",
      "metadata": {
        "id": "t1Hm-qlx8vBx"
      },
      "source": [
        "# initialize list of lists for the report\n",
        "\n",
        "new_df = [\n",
        "          ['Total Ad Spend (USD)', fb_total_ad_spend],\n",
        "          ['Total Subscribers Acquired FB (Results)', int(fb_results)],\n",
        "          ['Total Subscribers Acquired CF', total_cf_subscribers],\n",
        "          ['Cost Per Result FB Ads (USD)', fb_cost_per_result_alt_for],\n",
        "          ['Cost Per Acquisition CF', cost_per_result_cf],\n",
        "          ['Total Vaccinated', vaccinated_cf],\n",
        "          ['% of Vaccinated', percent_vaccinated],\n",
        "          ['Total Not Vaccinated', not_vaccinated_cf],\n",
        "          ['% of Not Vaccinated', percent_not_vaccinated],\n",
        "          ['Vaccinated Action Takers', vaccinated_action_takers],\n",
        "          ['% of Vaccinated Action Takerse (from Vaccinated Users)', percent_per_action_taker_vac],\n",
        "          ['Not Vaccinated Action Takers', not_vac_action_takers],\n",
        "          ['% of Not Vaccinated Action Takers (from Not Vaccinated Users', percent_per_action_taker_not_vac],\n",
        "          ['Total Action Takers', total_action_takers],\n",
        "          ['% of Action Takers', percent_per_action_taker],\n",
        "          ['Cost Per Action Taker', cost_per_action_taker],\n",
        "          ['Total Agree to Relational Shares', share_agree],\n",
        "          ['% of Total Agree to Relational Shares', percent_share_agree],\n",
        "          ['Cost Per Agree to Relational share', cost_per_share_agree],\n",
        "          ['Live Chat engagements', live_chat],\n",
        "          \n",
        "          \n",
        "          \n",
        "        ]\n",
        " \n",
        "# Create the pandas DataFrame\n",
        "GoToVacc_metrics = pd.DataFrame(new_df, columns = ['Description', 'Metric'])\n",
        "GoToVacc_metrics"
      ],
      "execution_count": null,
      "outputs": []
    },
    {
      "cell_type": "code",
      "metadata": {
        "id": "pcF0Upw8bgV8"
      },
      "source": [
        "# Grou A report generation\n",
        "\n",
        "A_new_df = [\n",
        "          ['Total Ad Spend (USD)', A_fb_total_ad_spend],\n",
        "          ['Total Subscribers Acquired FB (Results)', int(groupA_fb_results)],\n",
        "          ['Total Subscribers Acquired CF', A_total_cf_subscribers],\n",
        "          ['Cost Per Result FB Ads (USD)', A_fb_cost_per_result_alt_for],\n",
        "          ['Cost Per Acquisition CF', A_cost_per_result_cf],\n",
        "\n",
        "          ['Total Vaccinated', A_vaccinated_cf],\n",
        "          ['% of Vaccinated', A_percent_vaccinated],\n",
        "          ['Total Not Vaccinated', A_not_vaccinated_cf],\n",
        "          ['% of Not Vaccinated', A_percent_not_vaccinated],\n",
        "          ['Vaccinated Action Takers', A_vaccinated_action_takers],\n",
        "          ['% of Vaccinated Action Takerse (from Vaccinated Users)', A_percent_per_action_taker_vac],\n",
        "          ['Not Vaccinated Action Takers', A_not_vac_action_takers],\n",
        "          ['% of Not Vaccinated Action Takers (from Not Vaccinated Users', A_percent_per_action_taker_not_vac],\n",
        "          ['Total Action Takers', A_total_action_takers],\n",
        "          ['% of Action Takers', A_percent_per_action_taker],\n",
        "          ['Cost Per Action Taker', A_cost_per_action_taker],\n",
        "          ['Total Agree to Relational Shares', A_share_agree],\n",
        "          ['% of Total Agree to Relational Shares', A_percent_share_agree],\n",
        "          ['Cost Per Agree to Relational share', A_cost_per_share_agree],\n",
        "          ['Live Chat engagements', live_chat],\n",
        "          \n",
        "          \n",
        "          \n",
        "        ]\n",
        " \n",
        "# Create the pandas DataFrame\n",
        "A_GoToVacc_metrics = pd.DataFrame(A_new_df, columns = ['Description', 'Metric'])\n",
        "A_GoToVacc_metrics"
      ],
      "execution_count": null,
      "outputs": []
    },
    {
      "cell_type": "code",
      "metadata": {
        "id": "wKfUG6Gffknk"
      },
      "source": [
        "# Group B report generation\n",
        "\n",
        "B_new_df = [\n",
        "          ['Total Ad Spend (USD)', B_fb_total_ad_spend],\n",
        "          ['Total Subscribers Acquired FB (Results)', int(groupB_fb_results)],\n",
        "          ['Total Subscribers Acquired CF', B_total_cf_subscribers],\n",
        "          ['Cost Per Result FB Ads (USD)', B_fb_cost_per_result_alt_for],\n",
        "          ['Cost Per Acquisition CF', B_cost_per_result_cf],\n",
        "          ['Zip Codes Submitted', zip_codes_submitted],\n",
        "          ['Cost Per Zip Code Submitted', B_cost_per_zip_code],\n",
        "          ['% of Zip Codes submitted', B_percent_zip_codes_submitted],\n",
        "\n",
        "          ['Total Vaccinated', B_vaccinated_cf],\n",
        "          ['% of Vaccinated', B_percent_vaccinated],\n",
        "          ['Total Not Vaccinated', B_not_vaccinated_cf],\n",
        "          ['% of Not Vaccinated', B_percent_not_vaccinated],\n",
        "          ['Vaccinated Action Takers', B_vaccinated_action_takers],\n",
        "          ['% of Vaccinated Action Takerse (from Vaccinated Users)', B_percent_per_action_taker_vac],\n",
        "          ['Not Vaccinated Action Takers', B_not_vac_action_takers],\n",
        "          ['% of Not Vaccinated Action Takers (from Not Vaccinated Users', B_percent_per_action_taker_not_vac],\n",
        "          ['Total Action Takers', B_total_action_takers],\n",
        "          ['% of Action Takers', B_percent_per_action_taker],\n",
        "          ['Cost Per Action Taker', B_cost_per_action_taker],\n",
        "          ['Total Agree to Relational Shares', B_share_agree],\n",
        "          ['% of Total Agree to Relational Shares', B_percent_share_agree],\n",
        "          ['Cost Per Agree to Relational share', B_cost_per_share_agree],\n",
        "          ['Live Chat engagements', live_chat],\n",
        "          \n",
        "          \n",
        "          \n",
        "        ]\n",
        " \n",
        "# Create the pandas DataFrame\n",
        "B_GoToVacc_metrics = pd.DataFrame(B_new_df, columns = ['Description', 'Metric'])\n",
        "B_GoToVacc_metrics"
      ],
      "execution_count": null,
      "outputs": []
    },
    {
      "cell_type": "code",
      "metadata": {
        "id": "c4KLuC2EfFa2"
      },
      "source": [
        "# EDA: vaccination status by county\n",
        "\n",
        "cf_county = cf_data[['county_localyst', 'Vaccinated_Wisc_from_ad']]\n",
        "breakdown_county_cf=cf_county.value_counts()\n",
        "breakdown_county_cf"
      ],
      "execution_count": null,
      "outputs": []
    },
    {
      "cell_type": "code",
      "metadata": {
        "id": "4xasXiOVM25v"
      },
      "source": [
        "# EDA: county by share agrees\n",
        "\n",
        "cf_share = cf_data[['county_localyst', 'share_card_received']]\n",
        "cf_share.value_counts()"
      ],
      "execution_count": null,
      "outputs": []
    },
    {
      "cell_type": "markdown",
      "metadata": {
        "id": "EhlS3n7KFDOR"
      },
      "source": [
        "**Here you need to click on the link and it will create a authentification token that you will plaste in the space provided in the code**\n",
        "\n",
        "Click on the link that appears after \"Go to this URL in a browser:\"\n",
        "Chose your google account, sign in, copy the token.\n",
        "Paste the token in the slot provided in the script and click \"enter\"."
      ]
    },
    {
      "cell_type": "code",
      "metadata": {
        "id": "lmmfXa1YN6uw"
      },
      "source": [
        "from datetime import datetime\n",
        "from pytz import timezone\n",
        "import pytz\n",
        "\n",
        "def get_pst_time():\n",
        "    date_format='%m_%d_%Y_%H_%M_%S_%Z'\n",
        "    date = datetime.now(tz=pytz.utc)\n",
        "    date = date.astimezone(timezone('US/Pacific'))\n",
        "    pstDateTime=date.strftime(date_format)\n",
        "    return pstDateTime\n",
        "\n",
        "\n",
        "date_PDT=get_pst_time()\n",
        "date_PDT"
      ],
      "execution_count": null,
      "outputs": []
    },
    {
      "cell_type": "code",
      "metadata": {
        "id": "Azrpax7WNK6n"
      },
      "source": [
        "today = date.today()\n",
        "today = today.strftime(\"%b-%d-%Y\")\n",
        "today"
      ],
      "execution_count": null,
      "outputs": []
    },
    {
      "cell_type": "code",
      "metadata": {
        "id": "rjIdgWWezoea"
      },
      "source": [
        "# Mount drive from google\n",
        "\n",
        "from google.colab import drive\n",
        "drive.mount('drive')"
      ],
      "execution_count": null,
      "outputs": []
    },
    {
      "cell_type": "code",
      "metadata": {
        "id": "YwqaB8xd_Nw4"
      },
      "source": [
        "# Export metrics report back to files\n",
        "# The files will be in the same folder where you uploaded the data\n",
        "\n",
        "GoToVacc_metrics.to_csv(f'{date_PDT}-Wisconsin GoToVacc Metrics.csv')\n",
        "!cp WISC_GoToVacc_Metrics.csv \"drive/My Drive/\""
      ],
      "execution_count": null,
      "outputs": []
    },
    {
      "cell_type": "code",
      "metadata": {
        "id": "Qjq388Jxcshf"
      },
      "source": [
        "A_GoToVacc_metrics.to_csv(f'{date_PDT}-A_Wisconsin GoToVacc Metrics.csv')\n",
        "!cp A_WISC_GoToVacc_Metrics.csv \"drive/My Drive/\""
      ],
      "execution_count": null,
      "outputs": []
    },
    {
      "cell_type": "code",
      "metadata": {
        "id": "RhAVTc4Ff-Ji"
      },
      "source": [
        "B_GoToVacc_metrics.to_csv(f'{date_PDT}-B_Wisconsin GoToVacc Metrics.csv')\n",
        "!cp B_WISC_GoToVacc_Metrics.csv \"drive/My Drive/\""
      ],
      "execution_count": null,
      "outputs": []
    },
    {
      "cell_type": "code",
      "source": [
        "# We will create a new dataframe with subscribers with zip codes\n",
        "\n",
        "subscribers_zip_code = zip_code_list[['profile pic url','first name', 'last name','gender','zip_code', 'state_localyst', 'Vaccinated_Wisc_from_ad', 'wi_GTVac_action', 'county_localyst' ]]\n",
        "subscribers_zip_code"
      ],
      "metadata": {
        "id": "dGsH-_BVQN_R"
      },
      "execution_count": null,
      "outputs": []
    },
    {
      "cell_type": "code",
      "source": [
        "# We will create a new dataframe with subscribers with counties\n",
        "\n",
        "county_data = A_cf_data.dropna(subset=['county_localyst'])\n",
        "subscribers_county = county_data[['profile pic url','first name', 'last name','gender','county_localyst' , 'state_localyst', 'Vaccinated_Wisc_from_ad', 'wi_GTVac_action']]\n",
        "subscribers_county"
      ],
      "metadata": {
        "id": "tZNbSQzsR7WT"
      },
      "execution_count": null,
      "outputs": []
    },
    {
      "cell_type": "code",
      "source": [
        "# Export metrics report back to files\n",
        "# The files will be in the same folder where you uploaded the data\n",
        "\n",
        "subscribers_zip_code.to_csv(f'{date_PDT}-Zip_Codes_EP_Subscribers.csv')\n",
        "!cp Zip_Codes_EP_Subscribers.csv \"drive/My Drive/\""
      ],
      "metadata": {
        "id": "9eJEZ68lRv4b"
      },
      "execution_count": null,
      "outputs": []
    },
    {
      "cell_type": "code",
      "source": [
        "# Export metrics report back to files\n",
        "# The files will be in the same folder where you uploaded the data\n",
        "\n",
        "subscribers_county.to_csv(f'{date_PDT}-County_EP_Subscribers.csv')\n",
        "!cp County_EP_Subscribers.csv \"drive/My Drive/\""
      ],
      "metadata": {
        "id": "xT0phGH_SR54"
      },
      "execution_count": null,
      "outputs": []
    }
  ]
}