{
  "nbformat": 4,
  "nbformat_minor": 0,
  "metadata": {
    "colab": {
      "name": "Metircs_Early_Voting_Scaled.ipynb",
      "provenance": [],
      "authorship_tag": "ABX9TyM6XK69nAMcWirwzHwOvMZy",
      "include_colab_link": true
    },
    "kernelspec": {
      "name": "python3",
      "display_name": "Python 3"
    },
    "language_info": {
      "name": "python"
    }
  },
  "cells": [
    {
      "cell_type": "markdown",
      "metadata": {
        "id": "view-in-github",
        "colab_type": "text"
      },
      "source": [
        "<a href=\"https://colab.research.google.com/github/MashaKubyshina/solving_work_data_analytics_problems/blob/main/Metircs_Early_Voting.ipynb\" target=\"_parent\"><img src=\"https://colab.research.google.com/assets/colab-badge.svg\" alt=\"Open In Colab\"/></a>"
      ]
    },
    {
      "cell_type": "markdown",
      "metadata": {
        "id": "9G0tbad91xNj"
      },
      "source": [
        "**Quick GOTV data from FB ads**\n",
        "\n",
        "Goal of this tempalte is to facilitate reporting of GOTV (get out to vote) metrics. This script allows to pull a customized report with key GOTV metrics from 2 different data scources in less than 5 minutes. It used to take my team around 2 hours to pull this report by using excel and going through each data sheet manually.\n",
        "\n",
        "This template can be used for any state. In this template I am using the state of Georgia.\n",
        "\n",
        "**Key questions it will help you answer**\n",
        "\n",
        "*   This report will answer questions such as:\n",
        "*   What is the number of voting response engagements?\n",
        "*   What percent of users clicking on our ads have already voted?\n",
        "*   How many users in our audience will share the voting message with their family and friends on FB?\n",
        "\n",
        "**What you need before running the code**\n",
        "\n",
        "To use this template you will need the following data sheets downloaded on your machine:\n",
        "\n",
        "*   Chatfuel data in csv (select the user segment in people's tab using unique defining attribute and export users selecting all the attributes, click on \"select all\")\n",
        "*   Facebook Ads data in xlsx (go to the ad campaign and create a report only using \"ad set\" as a parameter, don't include \"ad name\", pay attention to the date range you select in FB Ads, the results might be wrong or different if wrong dates are selected)\n",
        "\n",
        "\n",
        "**Adding the data to your code**\n",
        "\n",
        "After you have downloaded all the data to your machine, you will add it to your files folder by clicking on the file icon on the right. Click on the option \"Upload to session storage\" and upload both sheets here. The 2 data sheets will appear next to \"sample data\" folder. Next you need to copy the path of each sheet by clicking on 3 dots next to each file name and clicking on \"copy path\". You will paste this path in the spaces provided in the top portion of this code.\n",
        "\n",
        "Now you can go through the code and follow the instructions hashed in green."
      ]
    },
    {
      "cell_type": "code",
      "metadata": {
        "id": "4NxyNWa26i_o"
      },
      "source": [
        "# We will install dataprep package (it will take a minute to load)\n",
        "\n",
        "! pip install dataprep"
      ],
      "execution_count": null,
      "outputs": []
    },
    {
      "cell_type": "code",
      "metadata": {
        "id": "tExBK2yF6fA6"
      },
      "source": [
        "# From dataprep we will import clean_phone function\n",
        "\n",
        "from dataprep.clean import clean_phone"
      ],
      "execution_count": 103,
      "outputs": []
    },
    {
      "cell_type": "code",
      "metadata": {
        "id": "zDwP1Wru2LeS"
      },
      "source": [
        "# Import librarires for working with our data\n",
        "\n",
        "import pandas as pd\n",
        "import numpy as np\n",
        "from datetime import date"
      ],
      "execution_count": 104,
      "outputs": []
    },
    {
      "cell_type": "code",
      "metadata": {
        "id": "rbYx0a0R2Sng"
      },
      "source": [
        "# Copy the path from Chatfuel data by clicking on 3 dots next to the file name\n",
        "# Paste this path in the place of the previous path, you will replace the \"/content/Localyst_2021_09_28_20_16_04.csv\" bit)\n",
        "# If needed please read the instructions above\n",
        "\n",
        "cf_data=pd.read_csv(\"/content/Localyst_2021_10_31_00_57_00.csv\")\n",
        "cf_data.head(5)"
      ],
      "execution_count": null,
      "outputs": []
    },
    {
      "cell_type": "code",
      "metadata": {
        "id": "S_gld5T03suT"
      },
      "source": [
        "# Copy the path from Facebook Ads data by clicking on 3 dots next to the file name\n",
        "# Paste this path in the place of the previous path, you will replace the \"/content/Virginia_09-28_new.xlsx\" bit)\n",
        "# If needed please read the instructions above\n",
        "\n",
        "fb_data=pd.read_excel(\"/content/GA_GOTV_FB_11-30-Oct-1-2021-to-Oct-30-2021.xlsx\")\n",
        "fb_data.head(3)"
      ],
      "execution_count": null,
      "outputs": []
    },
    {
      "cell_type": "markdown",
      "metadata": {
        "id": "bQbxWn214NXX"
      },
      "source": [
        "**If you have succesfully copied and pasted the 3 paths, you can run the whole script.**\n",
        "To run the script go to \"Runtime\" in the top menu and click on \"Run all\".\n",
        "The script will pause when it will ask you to enter your authentification to mount the drive to place the produced report on it. You will find more instructions at that step."
      ]
    },
    {
      "cell_type": "code",
      "metadata": {
        "id": "uwSaURdt4OFr"
      },
      "source": [
        "# set bold style for headers\n",
        "\n",
        "class style:\n",
        "   BOLD = '\\033[1m'\n",
        "   END = '\\033[0m'"
      ],
      "execution_count": 107,
      "outputs": []
    },
    {
      "cell_type": "code",
      "metadata": {
        "id": "KTVRU4ar4RsJ"
      },
      "source": [
        "# Drop first row from the dataframe in Facebook ads data\n",
        "\n",
        "fb_data.drop([0], inplace = True)\n",
        "fb_data.head(3)"
      ],
      "execution_count": null,
      "outputs": []
    },
    {
      "cell_type": "code",
      "metadata": {
        "id": "OXFUm5l541rn"
      },
      "source": [
        "# Grab the first row and make it the dataframe header in Facebook Ads data\n",
        "\n",
        "new_header = fb_data.iloc[0] #grab the first row for the header\n",
        "fb_data.columns = new_header #set the header row as the df header\n",
        "fb_data.drop([1], inplace = True) # drop the first row (only use this line if it is an extra text header)\n",
        "fb_data.head(10)"
      ],
      "execution_count": null,
      "outputs": []
    },
    {
      "cell_type": "code",
      "metadata": {
        "colab": {
          "base_uri": "https://localhost:8080/"
        },
        "id": "DMLNFTiQ431U",
        "outputId": "ba209b5f-151d-40c3-9920-a4e8c597d49b"
      },
      "source": [
        "# Check columns in Facebook Ads data\n",
        "\n",
        "fb_data.columns"
      ],
      "execution_count": 110,
      "outputs": [
        {
          "output_type": "execute_result",
          "data": {
            "text/plain": [
              "Index([                        nan,               'Ad Set Name',\n",
              "                               nan,           'Delivery Status',\n",
              "                  'Delivery Level',             'Campaign Name',\n",
              "             'Attribution Setting',               'Result Type',\n",
              "                         'Results',                     'Reach',\n",
              "                     'Impressions',           'Cost per Result',\n",
              "                 'Quality Ranking',   'Engagement Rate Ranking',\n",
              "         'Conversion Rate Ranking',        'Amount Spent (USD)',\n",
              "       'New Messaging Connections',               'Link Clicks',\n",
              "                'Reporting Starts',            'Reporting Ends'],\n",
              "      dtype='object', name=1)"
            ]
          },
          "metadata": {},
          "execution_count": 110
        }
      ]
    },
    {
      "cell_type": "code",
      "metadata": {
        "colab": {
          "base_uri": "https://localhost:8080/"
        },
        "id": "xbR5i3UE4506",
        "outputId": "1c9daaa8-f368-4567-9220-7c5f7f9bd5c2"
      },
      "source": [
        "# Rename certian columns in Facebook Ads data to avoid spaces\n",
        "\n",
        "fb_data = fb_data.rename(columns={'Ad Name':'ad_name'})\n",
        "fb_data = fb_data.rename(columns={'Campaign Name':'campaign_name'})\n",
        "fb_data = fb_data.rename(columns={'Ad Set Name':'adset_name'})\n",
        "fb_data = fb_data.rename(columns={'New Messaging Connections':'new_messaging_connections'})\n",
        "fb_data = fb_data.rename(columns={'Cost per Result':'cost_per_result'})\n",
        "fb_data = fb_data.rename(columns={'Amount Spent (USD)':'amount_spent_usd'})\n",
        "fb_data = fb_data.rename(columns={'Link Clicks':'link_clicks'})\n",
        "fb_data.columns"
      ],
      "execution_count": 111,
      "outputs": [
        {
          "output_type": "execute_result",
          "data": {
            "text/plain": [
              "Index([                        nan,                'adset_name',\n",
              "                               nan,           'Delivery Status',\n",
              "                  'Delivery Level',             'campaign_name',\n",
              "             'Attribution Setting',               'Result Type',\n",
              "                         'Results',                     'Reach',\n",
              "                     'Impressions',           'cost_per_result',\n",
              "                 'Quality Ranking',   'Engagement Rate Ranking',\n",
              "         'Conversion Rate Ranking',          'amount_spent_usd',\n",
              "       'new_messaging_connections',               'link_clicks',\n",
              "                'Reporting Starts',            'Reporting Ends'],\n",
              "      dtype='object', name=1)"
            ]
          },
          "metadata": {},
          "execution_count": 111
        }
      ]
    },
    {
      "cell_type": "code",
      "metadata": {
        "id": "1RBTSUIO4849"
      },
      "source": [
        "# Delete rows in Facebook Ads Data where \"results\" and \"adset_name\" column values are NaN (this allows us to delete summary rows)\n",
        "\n",
        "fb_data = fb_data.dropna(subset=['Results', 'adset_name'])\n",
        "fb_data"
      ],
      "execution_count": null,
      "outputs": []
    },
    {
      "cell_type": "code",
      "metadata": {
        "colab": {
          "base_uri": "https://localhost:8080/"
        },
        "id": "1R_ad6CZ5AHT",
        "outputId": "17170094-deab-4da1-fcbd-133a4dc2e210"
      },
      "source": [
        "# fb results sum of all adsets\n",
        "\n",
        "fb_results=fb_data['Results'].sum()\n",
        "fb_results"
      ],
      "execution_count": 113,
      "outputs": [
        {
          "output_type": "execute_result",
          "data": {
            "text/plain": [
              "2232"
            ]
          },
          "metadata": {},
          "execution_count": 113
        }
      ]
    },
    {
      "cell_type": "code",
      "metadata": {
        "id": "kBSw2IFo5CCM"
      },
      "source": [
        "# fb mean of all results\n",
        "\n",
        "fb_cost_per_result_r=fb_data['cost_per_result'].mean()\n",
        "fb_cost_per_result='${:0,.2f}'.format(fb_data['cost_per_result'].mean())\n",
        "fb_cost_per_result"
      ],
      "execution_count": null,
      "outputs": []
    },
    {
      "cell_type": "code",
      "metadata": {
        "id": "9-KNtBFF5D-f"
      },
      "source": [
        "# alternative way to get cost per result\n",
        "\n",
        "fb_cost_per_result_alt=fb_data['amount_spent_usd'].sum()/fb_data['Results'].sum()\n",
        "fb_cost_per_result_alt\n",
        "fb_cost_per_result_alt_for=fb_cost_per_result='${:0,.2f}'.format(fb_cost_per_result_alt)\n",
        "fb_cost_per_result_alt_for"
      ],
      "execution_count": null,
      "outputs": []
    },
    {
      "cell_type": "code",
      "metadata": {
        "id": "UQgAh1qF5F8d"
      },
      "source": [
        "# fb ad spend all adsets\n",
        "\n",
        "fb_total_ad_spend_r=fb_data['amount_spent_usd'].sum()\n",
        "fb_total_ad_spend='${:0,.2f}'.format(fb_data['amount_spent_usd'].sum())\n",
        "fb_total_ad_spend"
      ],
      "execution_count": null,
      "outputs": []
    },
    {
      "cell_type": "code",
      "metadata": {
        "colab": {
          "base_uri": "https://localhost:8080/"
        },
        "id": "6x7nQ_XK5H5d",
        "outputId": "869ca998-9eae-4f19-a79e-f2e397dedbc4"
      },
      "source": [
        "# fb new messaging conversations started\n",
        "\n",
        "fb_new_messaging_connections=fb_data['new_messaging_connections'].sum()\n",
        "fb_new_messaging_connections"
      ],
      "execution_count": 117,
      "outputs": [
        {
          "output_type": "execute_result",
          "data": {
            "text/plain": [
              "2147"
            ]
          },
          "metadata": {},
          "execution_count": 117
        }
      ]
    },
    {
      "cell_type": "code",
      "metadata": {
        "colab": {
          "base_uri": "https://localhost:8080/"
        },
        "id": "vqCnJzhp5Jzw",
        "outputId": "0e3eb352-39fa-4019-fe96-c503188a3ecd"
      },
      "source": [
        "# check all unique adset names\n",
        "\n",
        "fb_data['adset_name'].unique()"
      ],
      "execution_count": 118,
      "outputs": [
        {
          "output_type": "execute_result",
          "data": {
            "text/plain": [
              "array(['georgia_atlanta_gotv_scaled'], dtype=object)"
            ]
          },
          "metadata": {},
          "execution_count": 118
        }
      ]
    },
    {
      "cell_type": "code",
      "metadata": {
        "colab": {
          "base_uri": "https://localhost:8080/"
        },
        "id": "NRdeEDZN5MGw",
        "outputId": "6aaecc5e-0399-4907-9c2d-147eb5b41aae"
      },
      "source": [
        "# Save total number of Chatfuel subscribers\n",
        "\n",
        "total_cf_subscribers=len(cf_data)\n",
        "total_cf_subscribers"
      ],
      "execution_count": 119,
      "outputs": [
        {
          "output_type": "execute_result",
          "data": {
            "text/plain": [
              "2087"
            ]
          },
          "metadata": {},
          "execution_count": 119
        }
      ]
    },
    {
      "cell_type": "code",
      "metadata": {
        "colab": {
          "base_uri": "https://localhost:8080/"
        },
        "id": "cJYgf6Bk5R71",
        "outputId": "680cff79-956d-4ea7-cb13-5d32983b74ea"
      },
      "source": [
        "# Check the values for voting status attribute in CF\n",
        "\n",
        "cf_data['voter_status'].value_counts()"
      ],
      "execution_count": 120,
      "outputs": [
        {
          "output_type": "execute_result",
          "data": {
            "text/plain": [
              "will_vote_georgia_gotv_2021    907\n",
              "voted_georgia_gotv_2021        207\n",
              "Name: voter_status, dtype: int64"
            ]
          },
          "metadata": {},
          "execution_count": 120
        }
      ]
    },
    {
      "cell_type": "code",
      "metadata": {
        "colab": {
          "base_uri": "https://localhost:8080/"
        },
        "id": "f6ertnNT5UIW",
        "outputId": "abcb6281-dfa9-4ae3-9b47-34b784afd5fd"
      },
      "source": [
        "cf_data['issue'].value_counts()"
      ],
      "execution_count": 121,
      "outputs": [
        {
          "output_type": "execute_result",
          "data": {
            "text/plain": [
              "weed                  2026\n",
              "women                   13\n",
              "rent_relief             11\n",
              "affordable_housing       5\n",
              "climate                  2\n",
              "Name: issue, dtype: int64"
            ]
          },
          "metadata": {},
          "execution_count": 121
        }
      ]
    },
    {
      "cell_type": "code",
      "metadata": {
        "colab": {
          "base_uri": "https://localhost:8080/"
        },
        "id": "qyZYlvgu5Wxm",
        "outputId": "a07ad931-35b0-4019-affb-bc480c1574d7"
      },
      "source": [
        "cf_data['sign_petition'].value_counts()"
      ],
      "execution_count": 122,
      "outputs": [
        {
          "output_type": "execute_result",
          "data": {
            "text/plain": [
              "georgia_gotv_2021                1679\n",
              "vr_flow_virginia_2021_climate       2\n",
              "marijuana_2021_localyst_A           1\n",
              "Name: sign_petition, dtype: int64"
            ]
          },
          "metadata": {},
          "execution_count": 122
        }
      ]
    },
    {
      "cell_type": "code",
      "metadata": {
        "colab": {
          "base_uri": "https://localhost:8080/"
        },
        "id": "mNqOd10j5Y8v",
        "outputId": "bbee6efc-5beb-498a-81d4-614d06c912c5"
      },
      "source": [
        "# Save total number of petition signatures\n",
        "\n",
        "sign_petition=sum(cf_data['sign_petition'].value_counts())\n",
        "sign_petition"
      ],
      "execution_count": 123,
      "outputs": [
        {
          "output_type": "execute_result",
          "data": {
            "text/plain": [
              "1682"
            ]
          },
          "metadata": {},
          "execution_count": 123
        }
      ]
    },
    {
      "cell_type": "code",
      "metadata": {
        "colab": {
          "base_uri": "https://localhost:8080/"
        },
        "id": "By4epGgf5a9l",
        "outputId": "43248d30-b2b6-4ad1-9fa1-946910240e27"
      },
      "source": [
        "# Save total number of phone numbers\n",
        "\n",
        "phones_cf=sum(cf_data['phone_number'].value_counts())\n",
        "phones_cf"
      ],
      "execution_count": 124,
      "outputs": [
        {
          "output_type": "execute_result",
          "data": {
            "text/plain": [
              "1083"
            ]
          },
          "metadata": {},
          "execution_count": 124
        }
      ]
    },
    {
      "cell_type": "code",
      "metadata": {
        "id": "iemhswym9Ppy"
      },
      "source": [
        "# Save a slice of data with phone numbers that are digits (not words)\n",
        "\n",
        "phone_list=cf_data[cf_data['phone_number'].apply(lambda x: str(x).isdigit())]\n",
        "phone_list"
      ],
      "execution_count": null,
      "outputs": []
    },
    {
      "cell_type": "code",
      "metadata": {
        "colab": {
          "base_uri": "https://localhost:8080/"
        },
        "id": "8K7Jh_C89Twb",
        "outputId": "72defa1b-c2d0-4f8e-8a70-50c43f64c1e9"
      },
      "source": [
        "# Save total number of phone numbers submitted as digits\n",
        "\n",
        "number_phones_submitted=len(phone_list['phone_number'].value_counts())\n",
        "number_phones_submitted"
      ],
      "execution_count": 126,
      "outputs": [
        {
          "output_type": "execute_result",
          "data": {
            "text/plain": [
              "862"
            ]
          },
          "metadata": {},
          "execution_count": 126
        }
      ]
    },
    {
      "cell_type": "code",
      "metadata": {
        "colab": {
          "base_uri": "https://localhost:8080/"
        },
        "id": "_r4jIXaw8jxB",
        "outputId": "1c780b34-2c89-43da-e54f-ee63185a99fc"
      },
      "source": [
        "# we will clean the data using clean_phone\n",
        "# The results between using clean_phone and the lambda function \"isdigit\" 2 lines above are slightly different, clean_phone list is larger\n",
        "# For our metrics we will use the phone numbers from the lambda function (to be on a conservative side)\n",
        "# For our partners we will extract the subscriber report with clean phone numbers using clean_phone (in hopes that it does a better job caputring more phones)\n",
        "\n",
        "from dataprep.clean import clean_phone\n",
        "cf_data=clean_phone(cf_data, 'phone_number')"
      ],
      "execution_count": 127,
      "outputs": [
        {
          "output_type": "stream",
          "name": "stderr",
          "text": [
            "                                     "
          ]
        },
        {
          "output_type": "stream",
          "name": "stdout",
          "text": [
            "Phone Number Cleaning Report:\n",
            "\t899 values cleaned (43.08%)\n",
            "\t121 values unable to be parsed (5.8%), set to NaN\n",
            "Result contains 962 (46.09%) values in the correct format and 1125 null values (53.91%)\n"
          ]
        },
        {
          "output_type": "stream",
          "name": "stderr",
          "text": [
            "\r"
          ]
        }
      ]
    },
    {
      "cell_type": "code",
      "metadata": {
        "colab": {
          "base_uri": "https://localhost:8080/"
        },
        "id": "2SuXjHsZ5dAq",
        "outputId": "6dae35a3-fa74-4314-f6de-9bd6aa76129d"
      },
      "source": [
        "# Save total number of frame change agrees\n",
        "frame_agree=sum(cf_data['frame_change_agreed'].value_counts())\n",
        "frame_agree"
      ],
      "execution_count": 128,
      "outputs": [
        {
          "output_type": "execute_result",
          "data": {
            "text/plain": [
              "30"
            ]
          },
          "metadata": {},
          "execution_count": 128
        }
      ]
    },
    {
      "cell_type": "code",
      "metadata": {
        "colab": {
          "base_uri": "https://localhost:8080/"
        },
        "id": "VQdUTiDA-68o",
        "outputId": "89f49548-02e8-4177-c2b2-3e7614a63657"
      },
      "source": [
        "# Save total number of share agrees\n",
        "share_agree=sum(cf_data['share_card_received'].value_counts())\n",
        "share_agree"
      ],
      "execution_count": 129,
      "outputs": [
        {
          "output_type": "execute_result",
          "data": {
            "text/plain": [
              "469"
            ]
          },
          "metadata": {},
          "execution_count": 129
        }
      ]
    },
    {
      "cell_type": "code",
      "metadata": {
        "colab": {
          "base_uri": "https://localhost:8080/"
        },
        "id": "7aDtfRu9-9WB",
        "outputId": "de1976cc-a999-4c15-d4e6-17dcba7a0d39"
      },
      "source": [
        "# Save total number of viral users\n",
        "viral_users=sum(cf_data['viral_subscriber'].value_counts())\n",
        "viral_users"
      ],
      "execution_count": 130,
      "outputs": [
        {
          "output_type": "execute_result",
          "data": {
            "text/plain": [
              "30"
            ]
          },
          "metadata": {},
          "execution_count": 130
        }
      ]
    },
    {
      "cell_type": "code",
      "metadata": {
        "id": "1ou1EDT__DXk"
      },
      "source": [
        "# Create, format and save all the values we need for our report\n",
        "\n",
        "# completed=len(ge_rv_data[ge_rv_data['Status'] == 'Complete'])\n",
        "# started=len(ge_rv_data[ge_rv_data['Status'] != 'Complete'])\n",
        "# total=completed+started\n",
        "# cost_per_registered_user='${:0,.2f}'.format(fb_total_ad_spend_r/completed)\n",
        "# cost_per_registration_started='${:0,.2f}'.format(fb_total_ad_spend_r/total)\n",
        "# percent_completed='{:.0%}'.format(completed / total)\n",
        "# cf_rtv_completed='{:.0%}'.format(completed/not_vr_cf)\n",
        "# cf_rtv_started='{:.0%}'.format(total/not_vr_cf)\n",
        "# cf_rtv_completed_from_all='{:.0%}'.format(completed/total_cf)\n",
        "\n",
        "voted_cf=len(cf_data[cf_data['voter_status']== 'voted_georgia_gotv_2021'])\n",
        "will_vote_cf=len(cf_data[cf_data['voter_status']== 'will_vote_georgia_gotv_2021'])\n",
        "total_vote_actions=voted_cf+will_vote_cf\n",
        "percent_voted='{:.0%}'.format(voted_cf/total_vote_actions)\n",
        "percent_will_vote='{:.0%}'.format(will_vote_cf/total_vote_actions)\n",
        "cost_voter_action='${:0,.2f}'.format(fb_total_ad_spend_r/total_vote_actions)\n",
        "cost_per_result_cf='${:0,.2f}'.format(fb_total_ad_spend_r/total_cf_subscribers)\n",
        "percent_petitions_signed='{:.0%}'.format(sign_petition/total_cf_subscribers)\n",
        "percent_phones_submitted='{:.0%}'.format(number_phones_submitted/total_cf_subscribers)\n",
        "percent_voting_actions='{:.0%}'.format(total_vote_actions/total_cf_subscribers)\n",
        "percent_share_agree='{:.0%}'.format(share_agree/total_cf_subscribers)\n",
        "percent_frame_agree='{:.0%}'.format(frame_agree/total_cf_subscribers)\n",
        "percent_virals='{:.0%}'.format(viral_users/total_cf_subscribers)\n",
        "cost_per_phone='${:0,.2f}'.format(fb_total_ad_spend_r/number_phones_submitted)\n",
        "cost_per_petition='${:0,.2f}'.format(fb_total_ad_spend_r/sign_petition)"
      ],
      "execution_count": 131,
      "outputs": []
    },
    {
      "cell_type": "code",
      "metadata": {
        "id": "D3P6TNW4_FzQ"
      },
      "source": [
        "# initialize list of lists for the report\n",
        "\n",
        "new_df = [\n",
        "          ['Total Ad Spend (USD)', fb_total_ad_spend],\n",
        "          ['Total Subscribers Acquired FB (Results)', fb_results],\n",
        "          ['Total Subscribers Acquired CF', total_cf_subscribers],\n",
        "          ['Cost Per Result FB Ads (USD)', fb_cost_per_result_alt_for],\n",
        "          ['Cost Per Acquisition CF', cost_per_result_cf],\n",
        "          ['Total Petitions Signed', sign_petition],\n",
        "          ['% of Petitions Signed', percent_petitions_signed],\n",
        "          ['Cost Per Petition Signed', cost_per_petition],\n",
        "          ['Total Phone Numbers Opted In', number_phones_submitted],\n",
        "          ['% Phone Numbers Opted In', percent_phones_submitted],\n",
        "          ['Cost Per Phone Number', cost_per_phone],\n",
        "          ['Voting Response Engagements', total_vote_actions],\n",
        "          ['% Voting Response Engagements From All CF Users', percent_voting_actions],\n",
        "          ['Already Voted From Engaged', voted_cf],\n",
        "          ['% of Already Voted', percent_voted],\n",
        "          ['Will Vote', will_vote_cf],\n",
        "          ['% of Will Vote From Engaged', percent_will_vote],\n",
        "          ['Cost Per Voting Action', cost_voter_action],\n",
        "          ['Total Agree to Relational Shares', share_agree],\n",
        "          ['% of Total Agree to Relational Shares', percent_share_agree],\n",
        "          ['Total Frame Change Agree', frame_agree],\n",
        "          ['% of Total Frame Change Agree', percent_frame_agree],\n",
        "          ['Viral Subscribers', viral_users],\n",
        "          ['% of Total Viral Subscribers', percent_virals]\n",
        "          \n",
        "          \n",
        "          \n",
        "        ]\n",
        " \n",
        "# Create the pandas DataFrame\n",
        "gotv_metrics = pd.DataFrame(new_df, columns = ['Description', 'Metric'])\n",
        "gotv_metrics"
      ],
      "execution_count": null,
      "outputs": []
    },
    {
      "cell_type": "code",
      "metadata": {
        "id": "Bo-tWY0g_KW7"
      },
      "source": [
        "# EDA: subgroup by social issue\n",
        "\n",
        "cf_data_issue = cf_data.groupby(['issue', 'voter_status'])\n",
        "cf_data_issue.first()"
      ],
      "execution_count": null,
      "outputs": []
    },
    {
      "cell_type": "code",
      "metadata": {
        "colab": {
          "base_uri": "https://localhost:8080/"
        },
        "id": "SJ7vy1ml_Mpv",
        "outputId": "a3d42d7f-211f-4f43-948d-e29596219d45"
      },
      "source": [
        "# EDA: voter status by issue\n",
        "\n",
        "cf_issue = cf_data[['issue', 'voter_status']]\n",
        "breakdown_issue_cf=cf_issue.value_counts()\n",
        "breakdown_issue_cf"
      ],
      "execution_count": 134,
      "outputs": [
        {
          "output_type": "execute_result",
          "data": {
            "text/plain": [
              "issue               voter_status               \n",
              "weed                will_vote_georgia_gotv_2021    895\n",
              "                    voted_georgia_gotv_2021        204\n",
              "rent_relief         will_vote_georgia_gotv_2021      5\n",
              "women               will_vote_georgia_gotv_2021      4\n",
              "rent_relief         voted_georgia_gotv_2021          2\n",
              "affordable_housing  will_vote_georgia_gotv_2021      2\n",
              "climate             will_vote_georgia_gotv_2021      1\n",
              "affordable_housing  voted_georgia_gotv_2021          1\n",
              "dtype: int64"
            ]
          },
          "metadata": {},
          "execution_count": 134
        }
      ]
    },
    {
      "cell_type": "code",
      "metadata": {
        "colab": {
          "base_uri": "https://localhost:8080/"
        },
        "id": "dCZFUUWQ_O_v",
        "outputId": "fe0b7257-f278-46d1-ebd3-874b4206852f"
      },
      "source": [
        "# EDA: petition signature by issue\n",
        "\n",
        "cf_issue = cf_data[['issue', 'sign_petition']]\n",
        "cf_issue.value_counts()"
      ],
      "execution_count": 135,
      "outputs": [
        {
          "output_type": "execute_result",
          "data": {
            "text/plain": [
              "issue               sign_petition                \n",
              "weed                georgia_gotv_2021                1657\n",
              "women               georgia_gotv_2021                   8\n",
              "rent_relief         georgia_gotv_2021                   8\n",
              "affordable_housing  georgia_gotv_2021                   4\n",
              "weed                vr_flow_virginia_2021_climate       2\n",
              "climate             georgia_gotv_2021                   2\n",
              "weed                marijuana_2021_localyst_A           1\n",
              "dtype: int64"
            ]
          },
          "metadata": {},
          "execution_count": 135
        }
      ]
    },
    {
      "cell_type": "code",
      "metadata": {
        "colab": {
          "base_uri": "https://localhost:8080/",
          "height": 35
        },
        "id": "7OOnsX1__V7X",
        "outputId": "d9401167-7af8-4bf8-fdd0-c7c91650921f"
      },
      "source": [
        "from datetime import datetime\n",
        "from pytz import timezone\n",
        "import pytz\n",
        "\n",
        "def get_pst_time():\n",
        "    date_format='%m_%d_%Y_%H_%M_%S_%Z'\n",
        "    date = datetime.now(tz=pytz.utc)\n",
        "    date = date.astimezone(timezone('US/Pacific'))\n",
        "    pstDateTime=date.strftime(date_format)\n",
        "    return pstDateTime\n",
        "\n",
        "\n",
        "date_PDT=get_pst_time()\n",
        "date_PDT"
      ],
      "execution_count": 136,
      "outputs": [
        {
          "output_type": "execute_result",
          "data": {
            "application/vnd.google.colaboratory.intrinsic+json": {
              "type": "string"
            },
            "text/plain": [
              "'10_30_2021_18_39_22_PDT'"
            ]
          },
          "metadata": {},
          "execution_count": 136
        }
      ]
    },
    {
      "cell_type": "code",
      "metadata": {
        "colab": {
          "base_uri": "https://localhost:8080/",
          "height": 35
        },
        "id": "fdR7mBLB_ZPR",
        "outputId": "17383dea-a478-44b9-c568-07c37b1a1b5a"
      },
      "source": [
        "today = date.today()\n",
        "today = today.strftime(\"%b-%d-%Y\")\n",
        "today"
      ],
      "execution_count": 137,
      "outputs": [
        {
          "output_type": "execute_result",
          "data": {
            "application/vnd.google.colaboratory.intrinsic+json": {
              "type": "string"
            },
            "text/plain": [
              "'Oct-31-2021'"
            ]
          },
          "metadata": {},
          "execution_count": 137
        }
      ]
    },
    {
      "cell_type": "markdown",
      "metadata": {
        "id": "2DHvmAxg_R1q"
      },
      "source": [
        "**Here you need to click on the link and it will create a authentification token that you will plaste in the space provided in the code**\n",
        "\n",
        "Click on the link that appears after \"Go to this URL in a browser:\"\n",
        "Chose your google account, sign in, copy the token.\n",
        "Paste the token in the slot provided in the script and click \"enter\"."
      ]
    },
    {
      "cell_type": "code",
      "metadata": {
        "colab": {
          "base_uri": "https://localhost:8080/"
        },
        "id": "KhkVZr6A_bJE",
        "outputId": "a34a3aa3-1cd9-4368-91b5-50a4751295c7"
      },
      "source": [
        "# Mount drive from google\n",
        "\n",
        "from google.colab import drive\n",
        "drive.mount('drive')"
      ],
      "execution_count": 138,
      "outputs": [
        {
          "output_type": "stream",
          "name": "stdout",
          "text": [
            "Drive already mounted at drive; to attempt to forcibly remount, call drive.mount(\"drive\", force_remount=True).\n"
          ]
        }
      ]
    },
    {
      "cell_type": "code",
      "metadata": {
        "colab": {
          "base_uri": "https://localhost:8080/"
        },
        "id": "iNjlN5oK_Sfi",
        "outputId": "8262bae6-8976-460e-8fd8-390314975bd7"
      },
      "source": [
        "# Export metrics report back to files\n",
        "# The files will be in the same folder where you uploaded the data\n",
        "\n",
        "gotv_metrics.to_csv(f'{date_PDT}-Early Vote GOTV Metrics Georgia.csv')\n",
        "!cp Early_Vote_GOTV_Metrics_Georgia.csv \"drive/My Drive/\""
      ],
      "execution_count": 139,
      "outputs": [
        {
          "output_type": "stream",
          "name": "stdout",
          "text": [
            "cp: cannot stat 'Early_Vote_GOTV_Metrics_Georgia.csv': No such file or directory\n"
          ]
        }
      ]
    },
    {
      "cell_type": "markdown",
      "metadata": {
        "id": "fiDeLPCY7FR4"
      },
      "source": [
        "Next step is to get a list of cleaned phone numbers for our partners"
      ]
    },
    {
      "cell_type": "code",
      "metadata": {
        "id": "ZYLNkKLY60q-"
      },
      "source": [
        "# We will create a new dataframe with 6 parameters for our partners\n",
        "\n",
        "# We will create a new dataframe with 6 parameters for our partners\n",
        "\n",
        "clean_phone_data = cf_data.dropna(subset=['phone_number_clean'])\n",
        "subscribers_phone_numbers = clean_phone_data[['profile pic url','first name', 'last name','phone_number_clean', 'voter_status', 'issue' ]]\n",
        "subscribers_phone_numbers"
      ],
      "execution_count": null,
      "outputs": []
    },
    {
      "cell_type": "code",
      "metadata": {
        "colab": {
          "base_uri": "https://localhost:8080/"
        },
        "id": "-__Gr9b-_ovj",
        "outputId": "ab8b1735-48f6-4cc1-ad4f-fc4c60919a03"
      },
      "source": [
        "# Export metrics report back to files\n",
        "# The files will be in the same folder where you uploaded the data\n",
        "\n",
        "subscribers_phone_numbers.to_csv(f'{date_PDT}-Phone_Numbers_Georgia_Subscribers.csv')\n",
        "!cp Phone_Numbers_Georgia_Subscribers.csv \"drive/My Drive/\""
      ],
      "execution_count": 141,
      "outputs": [
        {
          "output_type": "stream",
          "name": "stdout",
          "text": [
            "cp: cannot stat 'Phone_Numbers_Georgia_Subscribers.csv': No such file or directory\n"
          ]
        }
      ]
    }
  ]
}