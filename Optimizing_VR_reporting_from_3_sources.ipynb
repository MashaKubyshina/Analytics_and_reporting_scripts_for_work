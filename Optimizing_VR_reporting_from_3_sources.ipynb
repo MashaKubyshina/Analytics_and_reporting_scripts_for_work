{
  "nbformat": 4,
  "nbformat_minor": 0,
  "metadata": {
    "colab": {
      "name": "Optimizing_VR_reporting_from_3_sources.ipynb",
      "provenance": [],
      "authorship_tag": "ABX9TyP9oP0E9zNuwBj6wZaVSZKR",
      "include_colab_link": true
    },
    "kernelspec": {
      "name": "python3",
      "display_name": "Python 3"
    },
    "language_info": {
      "name": "python"
    }
  },
  "cells": [
    {
      "cell_type": "markdown",
      "metadata": {
        "id": "view-in-github",
        "colab_type": "text"
      },
      "source": [
        "<a href=\"https://colab.research.google.com/github/MashaKubyshina/solving_work_data_analytics_problems/blob/main/Optimizing_VR_reporting_from_3_sources.ipynb\" target=\"_parent\"><img src=\"https://colab.research.google.com/assets/colab-badge.svg\" alt=\"Open In Colab\"/></a>"
      ]
    },
    {
      "cell_type": "markdown",
      "metadata": {
        "id": "3N9m37DkNl1_"
      },
      "source": [
        "**WHY THIS SCRIPT EXISTS**\n",
        "\n",
        "I wrote this script to speed up my data pulling and reporting.\n",
        "We create reports using 3 data sources: Chatfuel platform (chatbot), Facebook Ads, and Rock to Vote (registration data). Doing this in the spreadsheet used to take about 2 hours.\n",
        "\n",
        "I will delete some of the outputs not to reveal personal information from the database."
      ]
    },
    {
      "cell_type": "markdown",
      "metadata": {
        "id": "bn4Z8z7O1pco"
      },
      "source": [
        "### **Quick reports on Voter Registration metrics in Virginia from FB ads**\n",
        "\n",
        "**Goal of this tempalte** is to facilitate reporting of voter registration metrics. This script allows to pull a customized report with key voter registrations metrics from 3 different data scources in less than 5 minutes.\n",
        "It used to take my team around 2 hours to pull this report by using excel and going through each data sheet manually. \n",
        "\n",
        "This template can be used for any state. In this template I am using the state of Virginia.\n",
        "\n",
        "**Key questions it will help you answer**\n",
        "\n",
        "This report will answer questions such as:\n",
        "\n",
        "\n",
        "*   What is the cost of registering to vote a user coming from Facebook Ads?\n",
        "*   What percent of users clicking on our ads is already registered to vote?\n",
        "*   How many users in our audience will take action and register to vote?\n",
        "\n",
        "\n",
        "**What you need before running the code**\n",
        "\n",
        "To use this template you will need the following data sheets downloaded on your machine:\n",
        "\n",
        "\n",
        "*   Chatfuel data in csv (select the user segment in people's tab using unique defining attribute and export users selecting all the attributes, click on \"select all\")\n",
        "*   Facebook Ads data in xlsx (go to the ad campaign and create a report only using \"ad set\" as a parameter, don't include \"ad name\", pay attention to the date range you select in FB Ads, the results might be wrong or different if wrong dates are selected)\n",
        "*   Rock To Vote data in csv (download a report by selecting the proper data range)\n",
        "\n",
        "**Adding the data to your code**\n",
        "\n",
        "After you have downloaded all the data to your machine, you will add it to your files folder by clicking on the file icon on the right. Click on the option \"Upload to session storage\" and upload all 3 sheets here. The 3 data sheets will appear next to \"sample data\" folder.\n",
        "Next you need to copy the path of each sheet by clicking on 3 dots next to each file name and clicking on \"copy path\". You will paste this path in the spaces provided in the top portion of this code.\n",
        "\n",
        "Now you can go through the code and follow the instructions hashed in green.\n",
        " \n",
        "\n",
        "\n",
        "\n"
      ]
    },
    {
      "cell_type": "code",
      "metadata": {
        "id": "i01muPpKsKK3"
      },
      "source": [
        "# Import librarires\n",
        "\n",
        "import pandas as pd\n",
        "import numpy as np"
      ],
      "execution_count": 40,
      "outputs": []
    },
    {
      "cell_type": "code",
      "metadata": {
        "id": "fRHTVUkaIxA3"
      },
      "source": [
        "# Copy the path from Chatfuel data by clicking on 3 dots next to the file name\n",
        "# Paste this path in the place of the previous path, you will replace the \"/content/Localyst_2021_09_28_20_16_04.csv\" bit)\n",
        "# If needed please read the instructions above\n",
        "\n",
        "cf_data=pd.read_csv(\"/content/Localyst_2021_09_29_01_25_52.csv\")\n",
        "cf_data.head(3)"
      ],
      "execution_count": null,
      "outputs": []
    },
    {
      "cell_type": "code",
      "metadata": {
        "id": "FmY8S1kqtVA8"
      },
      "source": [
        "# Copy the path from Rock to Vote data by clicking on 3 dots next to the file name\n",
        "# Paste this path in the place of the previous path, you will replace the \"/content/registrants-report_20210601_20210928.csv\" bit)\n",
        "# If needed please read the instructions above\n",
        "\n",
        "rv_data=pd.read_csv(\"/content/registrants-report_20210901_20210928.csv\")\n",
        "rv_data.head(3)"
      ],
      "execution_count": null,
      "outputs": []
    },
    {
      "cell_type": "code",
      "metadata": {
        "id": "QoYS2qcMhIib"
      },
      "source": [
        "# Copy the path from Facebook Ads data by clicking on 3 dots next to the file name\n",
        "# Paste this path in the place of the previous path, you will replace the \"/content/Virginia_09-28_new.xlsx\" bit)\n",
        "# If needed please read the instructions above\n",
        "\n",
        "fb_data=pd.read_excel(\"/content/Virginia_28_final.xlsx\")\n",
        "fb_data.head(3)"
      ],
      "execution_count": null,
      "outputs": []
    },
    {
      "cell_type": "markdown",
      "metadata": {
        "id": "46SUynWwBfvS"
      },
      "source": [
        "**If you have succesfully copied and pasted the 3 paths, you can run the whole script.**\n",
        "To run the script go to \"Runtime\" in the top menu and click on \"Run all\".\n",
        "The script will pause when it will ask you to enter your authentification to mount the drive to place the produced report on it. You will find more instructions at that step."
      ]
    },
    {
      "cell_type": "code",
      "metadata": {
        "id": "1LYSmL9bgAGf"
      },
      "source": [
        "# set bold style for headers\n",
        "\n",
        "class style:\n",
        "   BOLD = '\\033[1m'\n",
        "   END = '\\033[0m'"
      ],
      "execution_count": 44,
      "outputs": []
    },
    {
      "cell_type": "code",
      "metadata": {
        "id": "qSPBmYpRvJzm"
      },
      "source": [
        "# Rename the 'Tracking Source' column in Rock to Vote data to exlude spaces\n",
        "\n",
        "rv_data = rv_data.rename(columns={'Tracking Source':'Source'})\n",
        "rv_data.head(3)"
      ],
      "execution_count": null,
      "outputs": []
    },
    {
      "cell_type": "code",
      "metadata": {
        "colab": {
          "base_uri": "https://localhost:8080/"
        },
        "id": "X6Wqo5306eaN",
        "outputId": "4acfd8c1-52c1-48bf-9fb0-6f3e017c5d88"
      },
      "source": [
        "# Check all sources from Rock to Vote in this dataframe\n",
        "\n",
        "rv_data['Source'].value_counts()"
      ],
      "execution_count": 46,
      "outputs": [
        {
          "output_type": "execute_result",
          "data": {
            "text/plain": [
              "ImpactAstory                           117\n",
              "Impactfeed                              93\n",
              "localyst_legalize_Georgia_ad            42\n",
              "localyst_Virginia_ad_not_registered      7\n",
              "localyst_Virginia_ad_unsure              5\n",
              "ImpactAfeed                              4\n",
              "btjamesajanisse                          3\n",
              "[name]                                   3\n",
              "btchristineschiefer                      1\n",
              "Name: Source, dtype: int64"
            ]
          },
          "metadata": {},
          "execution_count": 46
        }
      ]
    },
    {
      "cell_type": "code",
      "metadata": {
        "id": "8OR4TW_zlj2t"
      },
      "source": [
        "# Drop first row from the dataframe in Facebook ads data\n",
        "\n",
        "fb_data.drop([0], inplace = True)\n",
        "fb_data.head(3)"
      ],
      "execution_count": null,
      "outputs": []
    },
    {
      "cell_type": "code",
      "metadata": {
        "id": "cksNgAZcmFgG"
      },
      "source": [
        "# Grab the first row and make it the dataframe header in Facebook Ads data\n",
        "\n",
        "new_header = fb_data.iloc[0] #grab the first row for the header\n",
        "fb_data.columns = new_header #set the header row as the df header\n",
        "fb_data.drop([1], inplace = True) # drop the first row (only use this line if it is an extra text header)\n",
        "fb_data.head(10)"
      ],
      "execution_count": null,
      "outputs": []
    },
    {
      "cell_type": "code",
      "metadata": {
        "colab": {
          "base_uri": "https://localhost:8080/"
        },
        "id": "P_WK_N1Lmj-3",
        "outputId": "58ad1e3b-726c-4ff2-8382-104d8d79faea"
      },
      "source": [
        "# Check columns in Facebook Ads data\n",
        "\n",
        "fb_data.columns"
      ],
      "execution_count": 49,
      "outputs": [
        {
          "output_type": "execute_result",
          "data": {
            "text/plain": [
              "Index([                        nan,               'Ad Set Name',\n",
              "                               nan,           'Delivery Status',\n",
              "                  'Delivery Level',             'Campaign Name',\n",
              "             'Attribution Setting',               'Result Type',\n",
              "                         'Results',                     'Reach',\n",
              "                     'Impressions',           'Cost per Result',\n",
              "                 'Quality Ranking',   'Engagement Rate Ranking',\n",
              "         'Conversion Rate Ranking',        'Amount Spent (USD)',\n",
              "       'New Messaging Connections',               'Link Clicks',\n",
              "                'Reporting Starts',            'Reporting Ends'],\n",
              "      dtype='object', name=1)"
            ]
          },
          "metadata": {},
          "execution_count": 49
        }
      ]
    },
    {
      "cell_type": "code",
      "metadata": {
        "colab": {
          "base_uri": "https://localhost:8080/"
        },
        "id": "mMf3nq6kmsKB",
        "outputId": "bbd30dcc-c538-4a83-92f9-f8b0a8d0b1c5"
      },
      "source": [
        "# Rename certian columns in Facebook Ads data to avoid spaces\n",
        "\n",
        "fb_data = fb_data.rename(columns={'Ad Name':'ad_name'})\n",
        "fb_data = fb_data.rename(columns={'Campaign Name':'campaign_name'})\n",
        "fb_data = fb_data.rename(columns={'Ad Set Name':'adset_name'})\n",
        "fb_data = fb_data.rename(columns={'New Messaging Connections':'new_messaging_connections'})\n",
        "fb_data = fb_data.rename(columns={'Cost per Result':'cost_per_result'})\n",
        "fb_data = fb_data.rename(columns={'Amount Spent (USD)':'amount_spent_usd'})\n",
        "fb_data = fb_data.rename(columns={'Link Clicks':'link_clicks'})\n",
        "fb_data.columns"
      ],
      "execution_count": 50,
      "outputs": [
        {
          "output_type": "execute_result",
          "data": {
            "text/plain": [
              "Index([                        nan,                'adset_name',\n",
              "                               nan,           'Delivery Status',\n",
              "                  'Delivery Level',             'campaign_name',\n",
              "             'Attribution Setting',               'Result Type',\n",
              "                         'Results',                     'Reach',\n",
              "                     'Impressions',           'cost_per_result',\n",
              "                 'Quality Ranking',   'Engagement Rate Ranking',\n",
              "         'Conversion Rate Ranking',          'amount_spent_usd',\n",
              "       'new_messaging_connections',               'link_clicks',\n",
              "                'Reporting Starts',            'Reporting Ends'],\n",
              "      dtype='object', name=1)"
            ]
          },
          "metadata": {},
          "execution_count": 50
        }
      ]
    },
    {
      "cell_type": "code",
      "metadata": {
        "id": "moaGoQs_rsVD"
      },
      "source": [
        "# Delete rows in Facebook Ads Data where \"results\" and \"adset_name\" column values are NaN (this allows us to delete summary rows)\n",
        "\n",
        "fb_data = fb_data.dropna(subset=['Results', 'adset_name'])\n",
        "fb_data"
      ],
      "execution_count": null,
      "outputs": []
    },
    {
      "cell_type": "code",
      "metadata": {
        "colab": {
          "base_uri": "https://localhost:8080/"
        },
        "id": "h---q018kaWu",
        "outputId": "ad044a84-fcce-47bc-be26-fad5af00eae3"
      },
      "source": [
        "# fb results sum of all adsets\n",
        "\n",
        "fb_results=fb_data['Results'].sum()\n",
        "fb_results"
      ],
      "execution_count": 52,
      "outputs": [
        {
          "output_type": "execute_result",
          "data": {
            "text/plain": [
              "428"
            ]
          },
          "metadata": {},
          "execution_count": 52
        }
      ]
    },
    {
      "cell_type": "code",
      "metadata": {
        "colab": {
          "base_uri": "https://localhost:8080/",
          "height": 37
        },
        "id": "Nwc-rUp0n8_4",
        "outputId": "12c06583-7a13-4a94-efe3-31ef566c37f4"
      },
      "source": [
        "# fb results sum of all adsets\n",
        "\n",
        "fb_cost_per_result_r=fb_data['cost_per_result'].mean()\n",
        "fb_cost_per_result='${:0,.2f}'.format(fb_data['cost_per_result'].mean())\n",
        "fb_cost_per_result"
      ],
      "execution_count": 53,
      "outputs": [
        {
          "output_type": "execute_result",
          "data": {
            "application/vnd.google.colaboratory.intrinsic+json": {
              "type": "string"
            },
            "text/plain": [
              "'$4.40'"
            ]
          },
          "metadata": {},
          "execution_count": 53
        }
      ]
    },
    {
      "cell_type": "code",
      "metadata": {
        "colab": {
          "base_uri": "https://localhost:8080/",
          "height": 37
        },
        "id": "d4eWT9bOnDkn",
        "outputId": "f91cb579-3330-46c7-c9ab-a15772b0bc78"
      },
      "source": [
        "# fb ad spend all adsets\n",
        "\n",
        "fb_total_ad_spend_r=fb_data['amount_spent_usd'].sum()\n",
        "fb_total_ad_spend='${:0,.2f}'.format(fb_data['amount_spent_usd'].sum())\n",
        "fb_total_ad_spend"
      ],
      "execution_count": 54,
      "outputs": [
        {
          "output_type": "execute_result",
          "data": {
            "application/vnd.google.colaboratory.intrinsic+json": {
              "type": "string"
            },
            "text/plain": [
              "'$1,474.09'"
            ]
          },
          "metadata": {},
          "execution_count": 54
        }
      ]
    },
    {
      "cell_type": "code",
      "metadata": {
        "colab": {
          "base_uri": "https://localhost:8080/"
        },
        "id": "rlAucbImnkMD",
        "outputId": "9c5c8ed6-5f08-447d-c07e-042d9e168793"
      },
      "source": [
        "# fb new messaging conversations started\n",
        "\n",
        "fb_new_messaging_connections=fb_data['new_messaging_connections'].sum()\n",
        "fb_new_messaging_connections"
      ],
      "execution_count": 55,
      "outputs": [
        {
          "output_type": "execute_result",
          "data": {
            "text/plain": [
              "423"
            ]
          },
          "metadata": {},
          "execution_count": 55
        }
      ]
    },
    {
      "cell_type": "code",
      "metadata": {
        "colab": {
          "base_uri": "https://localhost:8080/"
        },
        "id": "xRaT4ue8WScb",
        "outputId": "ada6f7d9-bea8-4cbe-f5ab-2415e0396caf"
      },
      "source": [
        "# check all unique adset names\n",
        "\n",
        "fb_data['adset_name'].unique()"
      ],
      "execution_count": 56,
      "outputs": [
        {
          "output_type": "execute_result",
          "data": {
            "text/plain": [
              "array(['virginia_vr_pre-test_winners_and_new_pp_09_21_21',\n",
              "       'virginia_vr_pre-test_keep_it_legal',\n",
              "       'virginia_vr_pre-test_broadband', 'virginia_vr_pre-test_new_house',\n",
              "       'virginia_vr_pre-test_abortion', 'virginia_vr_pre-test_climate',\n",
              "       'virginia_vr_pre-test_transportation',\n",
              "       'virginia_vr_pre-test_abortion_texas'], dtype=object)"
            ]
          },
          "metadata": {},
          "execution_count": 56
        }
      ]
    },
    {
      "cell_type": "code",
      "metadata": {
        "id": "nAZN74QXt5Vw"
      },
      "source": [
        "# Slice the data from Rock to Vote we are going to work with\n",
        "\n",
        "ge_rv_data=rv_data[(rv_data['Source'] == 'localyst_Virginia_ad_unsure') | (rv_data['Source'] ==  'localyst_Virginia_ad_not_registered')]\n",
        "ge_rv_data.head(10)"
      ],
      "execution_count": null,
      "outputs": []
    },
    {
      "cell_type": "code",
      "metadata": {
        "colab": {
          "base_uri": "https://localhost:8080/"
        },
        "id": "kuhSe3pgt3TL",
        "outputId": "b903904f-d4f7-4f54-c666-4c51cfef043e"
      },
      "source": [
        "# Save total number of Chatfuel subscribers\n",
        "\n",
        "total_cf_subscribers=len(cf_data)\n",
        "total_cf_subscribers"
      ],
      "execution_count": 58,
      "outputs": [
        {
          "output_type": "execute_result",
          "data": {
            "text/plain": [
              "343"
            ]
          },
          "metadata": {},
          "execution_count": 58
        }
      ]
    },
    {
      "cell_type": "code",
      "metadata": {
        "colab": {
          "base_uri": "https://localhost:8080/"
        },
        "id": "5mmbDatfJFEV",
        "outputId": "d2f4a008-c7d8-4581-8607-56d2077a698d"
      },
      "source": [
        "# Check the values for registered_to_vote attribute in CF\n",
        "\n",
        "cf_data['registered_to_vote'].value_counts()"
      ],
      "execution_count": 59,
      "outputs": [
        {
          "output_type": "execute_result",
          "data": {
            "text/plain": [
              "yes_virginia_2021       198\n",
              "no_virginia_2021         39\n",
              "unsure_virginia_2021     12\n",
              "Name: registered_to_vote, dtype: int64"
            ]
          },
          "metadata": {},
          "execution_count": 59
        }
      ]
    },
    {
      "cell_type": "code",
      "metadata": {
        "colab": {
          "base_uri": "https://localhost:8080/"
        },
        "id": "DXPaS8VrONYV",
        "outputId": "ed084737-165e-41f6-9580-b63d952d3ed5"
      },
      "source": [
        "cf_data['issue'].value_counts()"
      ],
      "execution_count": 60,
      "outputs": [
        {
          "output_type": "execute_result",
          "data": {
            "text/plain": [
              "keep_legal                116\n",
              "broadband                 100\n",
              "climate                    50\n",
              "new_house                  34\n",
              "historic_figures_women     18\n",
              "abortion                   14\n",
              "transportation              9\n",
              "conflict_people             2\n",
              "Name: issue, dtype: int64"
            ]
          },
          "metadata": {},
          "execution_count": 60
        }
      ]
    },
    {
      "cell_type": "code",
      "metadata": {
        "colab": {
          "base_uri": "https://localhost:8080/"
        },
        "id": "-0oFTiEUOPTT",
        "outputId": "a675a7ce-100c-4670-8feb-7e4f8281c000"
      },
      "source": [
        "cf_data['sign_petition'].value_counts()"
      ],
      "execution_count": 61,
      "outputs": [
        {
          "output_type": "execute_result",
          "data": {
            "text/plain": [
              "vr_flow_virginia_2021_keep_legal                71\n",
              "vr_flow_virginia_2021_broadband                 42\n",
              "vr_flow_virginia_2021_weed                      32\n",
              "vr_flow_virginia_2021_climate                   17\n",
              "vr_flow_virginia_2021_historic_figures_women    15\n",
              "vr_flow_virginia_2021_new_house                 13\n",
              "vr_flow_virginia_2021_abortion                   6\n",
              "vr_flow_virginia_2021_transportation             3\n",
              "vr_flow_virginia_2021_conflict_people            1\n",
              "Name: sign_petition, dtype: int64"
            ]
          },
          "metadata": {},
          "execution_count": 61
        }
      ]
    },
    {
      "cell_type": "code",
      "metadata": {
        "colab": {
          "base_uri": "https://localhost:8080/"
        },
        "id": "2amni7pky1z4",
        "outputId": "236853af-e7a2-401e-cb09-4ac53480bfda"
      },
      "source": [
        "# Save total number of petition signatures\n",
        "\n",
        "sign_petition=sum(cf_data['sign_petition'].value_counts())\n",
        "sign_petition"
      ],
      "execution_count": 62,
      "outputs": [
        {
          "output_type": "execute_result",
          "data": {
            "text/plain": [
              "200"
            ]
          },
          "metadata": {},
          "execution_count": 62
        }
      ]
    },
    {
      "cell_type": "code",
      "metadata": {
        "colab": {
          "base_uri": "https://localhost:8080/"
        },
        "id": "xDJ86nDPzEKI",
        "outputId": "11d14ef4-ab0b-4f82-9062-8cef304df449"
      },
      "source": [
        "# Save total number of phone number aks\n",
        "\n",
        "phones_cf=sum(cf_data['phone_number'].value_counts())\n",
        "phones_cf"
      ],
      "execution_count": 63,
      "outputs": [
        {
          "output_type": "execute_result",
          "data": {
            "text/plain": [
              "102"
            ]
          },
          "metadata": {},
          "execution_count": 63
        }
      ]
    },
    {
      "cell_type": "code",
      "metadata": {
        "colab": {
          "base_uri": "https://localhost:8080/"
        },
        "id": "s5c1D_wf0ScM",
        "outputId": "e7fe61f7-e1d6-4aa5-ad7d-5144dc0c9264"
      },
      "source": [
        "# Save total number of share agrees\n",
        "share_agree=sum(cf_data['share_card_received'].value_counts())\n",
        "share_agree"
      ],
      "execution_count": 64,
      "outputs": [
        {
          "output_type": "execute_result",
          "data": {
            "text/plain": [
              "74"
            ]
          },
          "metadata": {},
          "execution_count": 64
        }
      ]
    },
    {
      "cell_type": "code",
      "metadata": {
        "id": "yUijRI-0zUKA"
      },
      "source": [
        "# Save a slice of data with phone numbers that are digits (not words)\n",
        "\n",
        "phone_list=cf_data[cf_data['phone_number'].apply(lambda x: str(x).isdigit())]\n",
        "phone_list"
      ],
      "execution_count": null,
      "outputs": []
    },
    {
      "cell_type": "code",
      "metadata": {
        "colab": {
          "base_uri": "https://localhost:8080/"
        },
        "id": "lLj5z5CwOTit",
        "outputId": "e3bd1d61-3148-4999-f0eb-a9eb2ab087f0"
      },
      "source": [
        "# Save total number of phone numbers submitted as digits\n",
        "\n",
        "number_phones_submitted=len(phone_list['phone_number'].value_counts())\n",
        "number_phones_submitted"
      ],
      "execution_count": 66,
      "outputs": [
        {
          "output_type": "execute_result",
          "data": {
            "text/plain": [
              "67"
            ]
          },
          "metadata": {},
          "execution_count": 66
        }
      ]
    },
    {
      "cell_type": "code",
      "metadata": {
        "id": "joLtMyTfo1iI"
      },
      "source": [
        "# Create, format and save all the values we need for our report\n",
        "\n",
        "completed=len(ge_rv_data[ge_rv_data['Status'] == 'Complete'])\n",
        "started=len(ge_rv_data[ge_rv_data['Status'] != 'Complete'])\n",
        "total=completed+started\n",
        "cost_per_registered_user='${:0,.2f}'.format(fb_total_ad_spend_r/completed)\n",
        "cost_per_registration_started='${:0,.2f}'.format(fb_total_ad_spend_r/total)\n",
        "not_registered_cf=len(cf_data[cf_data['registered_to_vote']== 'no_virginia_2021'])\n",
        "unsure_cf=len(cf_data[cf_data['registered_to_vote']== 'unsure_virginia_2021'])\n",
        "not_vr_cf=not_registered_cf+unsure_cf\n",
        "cost_not_registered='${:0,.2f}'.format(fb_total_ad_spend_r/not_vr_cf)\n",
        "percent_completed='{:.0%}'.format(completed / total)\n",
        "cf_rtv_completed='{:.0%}'.format(completed/not_vr_cf)\n",
        "cf_rtv_started='{:.0%}'.format(total/not_vr_cf)\n",
        "registered_cf=len(cf_data[cf_data['registered_to_vote']== 'yes_virginia_2021'])\n",
        "total_cf=not_registered_cf+registered_cf+unsure_cf\n",
        "percent_not_reg='{:.0%}'.format(not_vr_cf/total_cf)\n",
        "cf_rtv_completed_from_all='{:.0%}'.format(completed/total_cf)\n",
        "registered_cf=len(cf_data[cf_data['registered_to_vote']== 'yes_virginia_2021'])\n",
        "cost_per_result_cf='${:0,.2f}'.format(fb_total_ad_spend_r/total_cf_subscribers)\n",
        "percent_registered_vote='{:.0%}'.format(registered_cf/total_cf)"
      ],
      "execution_count": 67,
      "outputs": []
    },
    {
      "cell_type": "code",
      "metadata": {
        "colab": {
          "base_uri": "https://localhost:8080/",
          "height": 824
        },
        "id": "adOKi0suReg4",
        "outputId": "bce51739-9b07-4985-e634-ebe1e1c0bdba"
      },
      "source": [
        "new_df = [\n",
        "          ['Total Ad Spend (USD)', fb_total_ad_spend],\n",
        "          ['Total Subscribers Acquired FB (Results)', fb_results],\n",
        "          ['Total Subscribers Acquired CF', total_cf_subscribers],\n",
        "          ['Cost Per Result FB Ads (USD)', fb_cost_per_result],\n",
        "          ['Cost Per Acquisition CF', cost_per_result_cf],\n",
        "          ['Already Registered to Vote', registered_cf],\n",
        "          ['% of Already Registered To Vote', percent_registered_vote],\n",
        "          ['Number Not Registered or Not Sure', not_vr_cf],\n",
        "          ['% of Not Registered or Not Sure', percent_not_reg],\n",
        "          ['Total Started & Not Completed Registrations', started], \n",
        "          ['Total Completed Registrations', completed],\n",
        "          ['% of Not Registered who Complete Registrations From All Chatfuel Users', cf_rtv_completed_from_all],\n",
        "          ['% of Not Registered who Complete Registrations From All Not Registered or Not Sure Chatfuel Users', cf_rtv_completed], \n",
        "          ['% of Not Registered who Complete Registrations Within Rock to Vote', percent_completed],\n",
        "          ['Total Petitions Signed', sign_petition],\n",
        "          ['Total Phone Numbers Opted In', number_phones_submitted],\n",
        "          ['Total Agree to Relational Shares', share_agree],\n",
        "          ['Cost Per Registration Completed From FB Ads (USD)', cost_per_registered_user],\n",
        "          ['Cost Per Registration Started From FB Ads (USD)', cost_per_registration_started], \n",
        "          ['Cost Per Not Registered or Not Sure User (USD)', cost_not_registered],\n",
        "          ['Total Registrations Started:', total],\n",
        "          ['% of Started Registrations From FB Ads (Not Registered or Not Sure) To Rock to Vote', cf_rtv_started],      \n",
        "          ['Not Registered To Vote From FB Ads', not_registered_cf],\n",
        "          ['Unsure About Their Registrations Status From FB Ads', unsure_cf],     \n",
        "          ['Total Amount Of Action Takers In CF', registered_cf+unsure_cf+not_registered_cf],   \n",
        "        ]\n",
        " \n",
        "# Create dataframe\n",
        "vr_metrics = pd.DataFrame(new_df, columns = ['Description', 'Metric'])\n",
        "vr_metrics"
      ],
      "execution_count": 83,
      "outputs": [
        {
          "output_type": "execute_result",
          "data": {
            "text/html": [
              "<div>\n",
              "<style scoped>\n",
              "    .dataframe tbody tr th:only-of-type {\n",
              "        vertical-align: middle;\n",
              "    }\n",
              "\n",
              "    .dataframe tbody tr th {\n",
              "        vertical-align: top;\n",
              "    }\n",
              "\n",
              "    .dataframe thead th {\n",
              "        text-align: right;\n",
              "    }\n",
              "</style>\n",
              "<table border=\"1\" class=\"dataframe\">\n",
              "  <thead>\n",
              "    <tr style=\"text-align: right;\">\n",
              "      <th></th>\n",
              "      <th>Description</th>\n",
              "      <th>Metric</th>\n",
              "    </tr>\n",
              "  </thead>\n",
              "  <tbody>\n",
              "    <tr>\n",
              "      <th>0</th>\n",
              "      <td>Total Ad Spend (USD)</td>\n",
              "      <td>$1,474.09</td>\n",
              "    </tr>\n",
              "    <tr>\n",
              "      <th>1</th>\n",
              "      <td>Total Subscribers Acquired FB (Results)</td>\n",
              "      <td>428</td>\n",
              "    </tr>\n",
              "    <tr>\n",
              "      <th>2</th>\n",
              "      <td>Total Subscribers Acquired CF</td>\n",
              "      <td>343</td>\n",
              "    </tr>\n",
              "    <tr>\n",
              "      <th>3</th>\n",
              "      <td>Cost Per Result FB Ads (USD)</td>\n",
              "      <td>$4.40</td>\n",
              "    </tr>\n",
              "    <tr>\n",
              "      <th>4</th>\n",
              "      <td>Cost Per Acquisition CF</td>\n",
              "      <td>$4.30</td>\n",
              "    </tr>\n",
              "    <tr>\n",
              "      <th>5</th>\n",
              "      <td>Already Registered to Vote</td>\n",
              "      <td>198</td>\n",
              "    </tr>\n",
              "    <tr>\n",
              "      <th>6</th>\n",
              "      <td>% of Already Registered To Vote</td>\n",
              "      <td>80%</td>\n",
              "    </tr>\n",
              "    <tr>\n",
              "      <th>7</th>\n",
              "      <td>Number Not Registered or Not Sure</td>\n",
              "      <td>51</td>\n",
              "    </tr>\n",
              "    <tr>\n",
              "      <th>8</th>\n",
              "      <td>% of Not Registered or Not Sure</td>\n",
              "      <td>20%</td>\n",
              "    </tr>\n",
              "    <tr>\n",
              "      <th>9</th>\n",
              "      <td>Total Started &amp; Not Completed Registrations</td>\n",
              "      <td>11</td>\n",
              "    </tr>\n",
              "    <tr>\n",
              "      <th>10</th>\n",
              "      <td>Total Completed Registrations</td>\n",
              "      <td>1</td>\n",
              "    </tr>\n",
              "    <tr>\n",
              "      <th>11</th>\n",
              "      <td>% of Not Registered who Complete Registrations...</td>\n",
              "      <td>0%</td>\n",
              "    </tr>\n",
              "    <tr>\n",
              "      <th>12</th>\n",
              "      <td>% of Not Registered who Complete Registrations...</td>\n",
              "      <td>2%</td>\n",
              "    </tr>\n",
              "    <tr>\n",
              "      <th>13</th>\n",
              "      <td>% of Not Registered who Complete Registrations...</td>\n",
              "      <td>8%</td>\n",
              "    </tr>\n",
              "    <tr>\n",
              "      <th>14</th>\n",
              "      <td>Total Petitions Signed</td>\n",
              "      <td>200</td>\n",
              "    </tr>\n",
              "    <tr>\n",
              "      <th>15</th>\n",
              "      <td>Total Phone Numbers Opted In</td>\n",
              "      <td>67</td>\n",
              "    </tr>\n",
              "    <tr>\n",
              "      <th>16</th>\n",
              "      <td>Total Agree to Relational Shares</td>\n",
              "      <td>74</td>\n",
              "    </tr>\n",
              "    <tr>\n",
              "      <th>17</th>\n",
              "      <td>Cost Per Registration Completed From FB Ads (USD)</td>\n",
              "      <td>$1,474.09</td>\n",
              "    </tr>\n",
              "    <tr>\n",
              "      <th>18</th>\n",
              "      <td>Cost Per Registration Started From FB Ads (USD)</td>\n",
              "      <td>$122.84</td>\n",
              "    </tr>\n",
              "    <tr>\n",
              "      <th>19</th>\n",
              "      <td>Cost Per Not Registered or Not Sure User (USD)</td>\n",
              "      <td>$28.90</td>\n",
              "    </tr>\n",
              "    <tr>\n",
              "      <th>20</th>\n",
              "      <td>Total Registrations Started:</td>\n",
              "      <td>12</td>\n",
              "    </tr>\n",
              "    <tr>\n",
              "      <th>21</th>\n",
              "      <td>% of Started Registrations From FB Ads (Not Re...</td>\n",
              "      <td>24%</td>\n",
              "    </tr>\n",
              "    <tr>\n",
              "      <th>22</th>\n",
              "      <td>Not Registered To Vote From FB Ads</td>\n",
              "      <td>39</td>\n",
              "    </tr>\n",
              "    <tr>\n",
              "      <th>23</th>\n",
              "      <td>Unsure About Their Registrations Status From F...</td>\n",
              "      <td>12</td>\n",
              "    </tr>\n",
              "    <tr>\n",
              "      <th>24</th>\n",
              "      <td>Total Amount Of Action Takers In CF</td>\n",
              "      <td>249</td>\n",
              "    </tr>\n",
              "  </tbody>\n",
              "</table>\n",
              "</div>"
            ],
            "text/plain": [
              "                                          Description     Metric\n",
              "0                                Total Ad Spend (USD)  $1,474.09\n",
              "1             Total Subscribers Acquired FB (Results)        428\n",
              "2                       Total Subscribers Acquired CF        343\n",
              "3                        Cost Per Result FB Ads (USD)      $4.40\n",
              "4                             Cost Per Acquisition CF      $4.30\n",
              "5                          Already Registered to Vote        198\n",
              "6                     % of Already Registered To Vote        80%\n",
              "7                   Number Not Registered or Not Sure         51\n",
              "8                     % of Not Registered or Not Sure        20%\n",
              "9         Total Started & Not Completed Registrations         11\n",
              "10                      Total Completed Registrations          1\n",
              "11  % of Not Registered who Complete Registrations...         0%\n",
              "12  % of Not Registered who Complete Registrations...         2%\n",
              "13  % of Not Registered who Complete Registrations...         8%\n",
              "14                             Total Petitions Signed        200\n",
              "15                       Total Phone Numbers Opted In         67\n",
              "16                   Total Agree to Relational Shares         74\n",
              "17  Cost Per Registration Completed From FB Ads (USD)  $1,474.09\n",
              "18    Cost Per Registration Started From FB Ads (USD)    $122.84\n",
              "19     Cost Per Not Registered or Not Sure User (USD)     $28.90\n",
              "20                       Total Registrations Started:         12\n",
              "21  % of Started Registrations From FB Ads (Not Re...        24%\n",
              "22                 Not Registered To Vote From FB Ads         39\n",
              "23  Unsure About Their Registrations Status From F...         12\n",
              "24                Total Amount Of Action Takers In CF        249"
            ]
          },
          "metadata": {},
          "execution_count": 83
        }
      ]
    },
    {
      "cell_type": "code",
      "metadata": {
        "colab": {
          "base_uri": "https://localhost:8080/"
        },
        "id": "WpocAAPswJiW",
        "outputId": "77935d2f-698d-4410-f6e9-75ae65bc093b"
      },
      "source": [
        "# Check the \"Status\" column values in Rock to Vote\n",
        "\n",
        "ge_rv_data['Status'].value_counts()"
      ],
      "execution_count": 69,
      "outputs": [
        {
          "output_type": "execute_result",
          "data": {
            "text/plain": [
              "Step 1      10\n",
              "Step 3       1\n",
              "Complete     1\n",
              "Name: Status, dtype: int64"
            ]
          },
          "metadata": {},
          "execution_count": 69
        }
      ]
    },
    {
      "cell_type": "code",
      "metadata": {
        "colab": {
          "base_uri": "https://localhost:8080/",
          "height": 248
        },
        "id": "52Jo0mJnER-s",
        "outputId": "62d8617b-5afe-45ff-8d0b-91a6f2b46dc0"
      },
      "source": [
        "# Create a simple plot to visualize voter registration status\n",
        "\n",
        "import matplotlib.pyplot as plt\n",
        "\n",
        "y = np.array(ge_rv_data['Status'].value_counts())\n",
        "\n",
        "mylabels = [\"Step 1\", \"Step 3\", \"Completed\"]\n",
        "#myexplode = [0.2, 0, 0, 0]\n",
        "mycolors = [\"blue\", \"hotpink\", \"green\", \"yellow\"]\n",
        "\n",
        "plt.pie(y, labels = mylabels, colors=mycolors)\n",
        "plt.pie(y)\n",
        "plt.show() "
      ],
      "execution_count": 70,
      "outputs": [
        {
          "output_type": "display_data",
          "data": {
            "image/png": "[encoded data removed]",
            "text/plain": [
              "<Figure size 432x288 with 1 Axes>"
            ]
          },
          "metadata": {}
        }
      ]
    },
    {
      "cell_type": "code",
      "metadata": {
        "id": "Mo5-EF9QeSmo"
      },
      "source": [
        "# EDA: subgroup by social issue\n",
        "\n",
        "cf_data_issue = cf_data.groupby(['issue', 'registered_to_vote'])\n",
        "cf_data_issue.first()"
      ],
      "execution_count": null,
      "outputs": []
    },
    {
      "cell_type": "code",
      "metadata": {
        "colab": {
          "base_uri": "https://localhost:8080/"
        },
        "id": "c4KLuC2EfFa2",
        "outputId": "ef4d25b8-cc5e-4419-f673-f31c85b22a52"
      },
      "source": [
        "# EDA: registration status by issue\n",
        "\n",
        "cf_issue = cf_data[['issue', 'registered_to_vote']]\n",
        "cf_issue.value_counts()"
      ],
      "execution_count": 72,
      "outputs": [
        {
          "output_type": "execute_result",
          "data": {
            "text/plain": [
              "issue                   registered_to_vote  \n",
              "keep_legal              yes_virginia_2021       73\n",
              "broadband               yes_virginia_2021       56\n",
              "climate                 yes_virginia_2021       30\n",
              "broadband               no_virginia_2021        18\n",
              "historic_figures_women  yes_virginia_2021       14\n",
              "new_house               yes_virginia_2021       14\n",
              "keep_legal              no_virginia_2021        13\n",
              "abortion                yes_virginia_2021        7\n",
              "keep_legal              unsure_virginia_2021     4\n",
              "transportation          yes_virginia_2021        3\n",
              "new_house               no_virginia_2021         3\n",
              "broadband               unsure_virginia_2021     3\n",
              "abortion                no_virginia_2021         2\n",
              "climate                 no_virginia_2021         2\n",
              "                        unsure_virginia_2021     2\n",
              "new_house               unsure_virginia_2021     2\n",
              "historic_figures_women  no_virginia_2021         1\n",
              "abortion                unsure_virginia_2021     1\n",
              "conflict_people         yes_virginia_2021        1\n",
              "dtype: int64"
            ]
          },
          "metadata": {},
          "execution_count": 72
        }
      ]
    },
    {
      "cell_type": "code",
      "metadata": {
        "colab": {
          "base_uri": "https://localhost:8080/"
        },
        "id": "4xasXiOVM25v",
        "outputId": "df85046f-8803-4e55-e25d-1624a78a8b02"
      },
      "source": [
        "# EDA: petition signature by issue\n",
        "\n",
        "cf_issue = cf_data[['issue', 'sign_petition']]\n",
        "cf_issue.value_counts()"
      ],
      "execution_count": 73,
      "outputs": [
        {
          "output_type": "execute_result",
          "data": {
            "text/plain": [
              "issue                   sign_petition                               \n",
              "keep_legal              vr_flow_virginia_2021_keep_legal                71\n",
              "broadband               vr_flow_virginia_2021_broadband                 40\n",
              "                        vr_flow_virginia_2021_weed                      17\n",
              "climate                 vr_flow_virginia_2021_climate                   16\n",
              "historic_figures_women  vr_flow_virginia_2021_historic_figures_women    14\n",
              "new_house               vr_flow_virginia_2021_new_house                 13\n",
              "climate                 vr_flow_virginia_2021_weed                      13\n",
              "abortion                vr_flow_virginia_2021_abortion                   6\n",
              "transportation          vr_flow_virginia_2021_transportation             3\n",
              "new_house               vr_flow_virginia_2021_historic_figures_women     1\n",
              "                        vr_flow_virginia_2021_broadband                  1\n",
              "keep_legal              vr_flow_virginia_2021_weed                       1\n",
              "                        vr_flow_virginia_2021_climate                    1\n",
              "conflict_people         vr_flow_virginia_2021_conflict_people            1\n",
              "climate                 vr_flow_virginia_2021_broadband                  1\n",
              "abortion                vr_flow_virginia_2021_weed                       1\n",
              "dtype: int64"
            ]
          },
          "metadata": {},
          "execution_count": 73
        }
      ]
    },
    {
      "cell_type": "markdown",
      "metadata": {
        "id": "EhlS3n7KFDOR"
      },
      "source": [
        "**Here you need to click on the link and it will create a authentification token that you will plaste in the space provided in the code**\n",
        "\n",
        "Click on the link that appears after \"Go to this URL in a browser:\"\n",
        "Chose your google account, sign in, copy the token.\n",
        "Paste the token in the slot provided in the script and click \"enter\"."
      ]
    },
    {
      "cell_type": "code",
      "metadata": {
        "colab": {
          "base_uri": "https://localhost:8080/"
        },
        "id": "rjIdgWWezoea",
        "outputId": "1bae4a53-0187-4b92-a457-f5a58a8db3c6"
      },
      "source": [
        "# Mount drive from google\n",
        "\n",
        "from google.colab import drive\n",
        "drive.mount('drive')"
      ],
      "execution_count": 74,
      "outputs": [
        {
          "output_type": "stream",
          "name": "stdout",
          "text": [
            "Drive already mounted at drive; to attempt to forcibly remount, call drive.mount(\"drive\", force_remount=True).\n"
          ]
        }
      ]
    },
    {
      "cell_type": "code",
      "metadata": {
        "id": "YwqaB8xd_Nw4"
      },
      "source": [
        "# Export metrics report back to files\n",
        "# The files will be in the same folder where you uploaded the data\n",
        "\n",
        "vr_metrics.to_csv('Voter_Registration_Metrics_Virginia.csv')\n",
        "!cp Voter_Registration_Metrics_Virginia.csv \"drive/My Drive/\""
      ],
      "execution_count": 75,
      "outputs": []
    },
    {
      "cell_type": "code",
      "metadata": {
        "id": "sIPEwTz9ur0t"
      },
      "source": [
        "# Export VR data report back to files, this report can be used to call those who dropped before completing the process\n",
        "# The files will be in the same folder where you uploaded the data\n",
        "\n",
        "ge_rv_data.to_csv('Virginia_Rock-to-Vote_data.csv')\n",
        "!cp Virginia_Rock-to-Vote_data.csv \"drive/My Drive/\""
      ],
      "execution_count": 76,
      "outputs": []
    },
    {
      "cell_type": "code",
      "metadata": {
        "id": "JYhiXeFut_wn"
      },
      "source": [
        "# Save a segment of users who completed the registration on Rock to Vote\n",
        "\n",
        "ge_rv_data_completed=ge_rv_data[ge_rv_data.Status == 'Complete']\n",
        "ge_rv_data_completed"
      ],
      "execution_count": null,
      "outputs": []
    },
    {
      "cell_type": "code",
      "metadata": {
        "id": "evx43z63Fda2"
      },
      "source": [
        "# Save a segment of users who didn't complete the registration on Rock to Vote\n",
        "\n",
        "ge_rv_data_not_completed=ge_rv_data[ge_rv_data.Status != 'Complete']\n",
        "ge_rv_data_not_completed"
      ],
      "execution_count": null,
      "outputs": []
    }
  ]
}